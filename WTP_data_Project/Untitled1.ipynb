{
  "nbformat": 4,
  "nbformat_minor": 0,
  "metadata": {
    "colab": {
      "name": "Untitled1.ipynb",
      "provenance": [],
      "collapsed_sections": [],
      "mount_file_id": "1Ut4YlN55KLgWbAmMAaiPGNYnbEOFdSOz",
      "authorship_tag": "ABX9TyNIpNo835Kuhht067qsc4QF",
      "include_colab_link": true
    },
    "kernelspec": {
      "name": "python3",
      "display_name": "Python 3"
    },
    "language_info": {
      "name": "python"
    }
  },
  "cells": [
    {
      "cell_type": "markdown",
      "metadata": {
        "id": "view-in-github",
        "colab_type": "text"
      },
      "source": [
        "<a href=\"https://colab.research.google.com/github/Anirban095/Freelance-Projects/blob/main/WTP_data_Project/Untitled1.ipynb\" target=\"_parent\"><img src=\"https://colab.research.google.com/assets/colab-badge.svg\" alt=\"Open In Colab\"/></a>"
      ]
    },
    {
      "cell_type": "code",
      "execution_count": 89,
      "metadata": {
        "id": "OrYlaPs6dDwr"
      },
      "outputs": [],
      "source": [
        "#Import required libraries\n",
        "import pandas as pd\n",
        "from scipy.optimize import minimize,Bounds,BFGS,SR1,minimize_scalar\n",
        "import numpy as np\n",
        "import statsmodels.api as sm\n",
        "import matplotlib.pyplot as plt"
      ]
    },
    {
      "cell_type": "code",
      "source": [
        "#Read data from stored CSV file (THIS SHOULD POINT TO YOUR FILE's OS)\n",
        "HW1_filePath =  'Your file path location'\n",
        "HW1_data = pd.read_csv(HW1_filePath)"
      ],
      "metadata": {
        "id": "n9WCKLpoeRF2"
      },
      "execution_count": 2,
      "outputs": []
    },
    {
      "cell_type": "code",
      "source": [
        "HW1_data.head()"
      ],
      "metadata": {
        "colab": {
          "base_uri": "https://localhost:8080/",
          "height": 206
        },
        "id": "wX13FIO2eUbH",
        "outputId": "4af735bb-4f28-41d1-e5cf-89fa19adc6b5"
      },
      "execution_count": 3,
      "outputs": [
        {
          "output_type": "execute_result",
          "data": {
            "text/plain": [
              "   id  WTP If_rafted_before If_camped_before If_trekked_before  Age Gender  \\\n",
              "0   1  600              Yes              Yes                No   23      M   \n",
              "1   2  700               No              Yes               Yes   23      M   \n",
              "2   3  600              Yes              Yes               Yes   23      F   \n",
              "3   4  900              Yes              Yes               Yes   28      M   \n",
              "4   5  800              Yes               No               Yes   30      M   \n",
              "\n",
              "  Marital_status  \n",
              "0         Single  \n",
              "1         Single  \n",
              "2         Single  \n",
              "3         Single  \n",
              "4        Married  "
            ],
            "text/html": [
              "\n",
              "  <div id=\"df-7cd9c7fa-a5c8-4642-9a4a-fee94d413264\">\n",
              "    <div class=\"colab-df-container\">\n",
              "      <div>\n",
              "<style scoped>\n",
              "    .dataframe tbody tr th:only-of-type {\n",
              "        vertical-align: middle;\n",
              "    }\n",
              "\n",
              "    .dataframe tbody tr th {\n",
              "        vertical-align: top;\n",
              "    }\n",
              "\n",
              "    .dataframe thead th {\n",
              "        text-align: right;\n",
              "    }\n",
              "</style>\n",
              "<table border=\"1\" class=\"dataframe\">\n",
              "  <thead>\n",
              "    <tr style=\"text-align: right;\">\n",
              "      <th></th>\n",
              "      <th>id</th>\n",
              "      <th>WTP</th>\n",
              "      <th>If_rafted_before</th>\n",
              "      <th>If_camped_before</th>\n",
              "      <th>If_trekked_before</th>\n",
              "      <th>Age</th>\n",
              "      <th>Gender</th>\n",
              "      <th>Marital_status</th>\n",
              "    </tr>\n",
              "  </thead>\n",
              "  <tbody>\n",
              "    <tr>\n",
              "      <th>0</th>\n",
              "      <td>1</td>\n",
              "      <td>600</td>\n",
              "      <td>Yes</td>\n",
              "      <td>Yes</td>\n",
              "      <td>No</td>\n",
              "      <td>23</td>\n",
              "      <td>M</td>\n",
              "      <td>Single</td>\n",
              "    </tr>\n",
              "    <tr>\n",
              "      <th>1</th>\n",
              "      <td>2</td>\n",
              "      <td>700</td>\n",
              "      <td>No</td>\n",
              "      <td>Yes</td>\n",
              "      <td>Yes</td>\n",
              "      <td>23</td>\n",
              "      <td>M</td>\n",
              "      <td>Single</td>\n",
              "    </tr>\n",
              "    <tr>\n",
              "      <th>2</th>\n",
              "      <td>3</td>\n",
              "      <td>600</td>\n",
              "      <td>Yes</td>\n",
              "      <td>Yes</td>\n",
              "      <td>Yes</td>\n",
              "      <td>23</td>\n",
              "      <td>F</td>\n",
              "      <td>Single</td>\n",
              "    </tr>\n",
              "    <tr>\n",
              "      <th>3</th>\n",
              "      <td>4</td>\n",
              "      <td>900</td>\n",
              "      <td>Yes</td>\n",
              "      <td>Yes</td>\n",
              "      <td>Yes</td>\n",
              "      <td>28</td>\n",
              "      <td>M</td>\n",
              "      <td>Single</td>\n",
              "    </tr>\n",
              "    <tr>\n",
              "      <th>4</th>\n",
              "      <td>5</td>\n",
              "      <td>800</td>\n",
              "      <td>Yes</td>\n",
              "      <td>No</td>\n",
              "      <td>Yes</td>\n",
              "      <td>30</td>\n",
              "      <td>M</td>\n",
              "      <td>Married</td>\n",
              "    </tr>\n",
              "  </tbody>\n",
              "</table>\n",
              "</div>\n",
              "      <button class=\"colab-df-convert\" onclick=\"convertToInteractive('df-7cd9c7fa-a5c8-4642-9a4a-fee94d413264')\"\n",
              "              title=\"Convert this dataframe to an interactive table.\"\n",
              "              style=\"display:none;\">\n",
              "        \n",
              "  <svg xmlns=\"http://www.w3.org/2000/svg\" height=\"24px\"viewBox=\"0 0 24 24\"\n",
              "       width=\"24px\">\n",
              "    <path d=\"M0 0h24v24H0V0z\" fill=\"none\"/>\n",
              "    <path d=\"M18.56 5.44l.94 2.06.94-2.06 2.06-.94-2.06-.94-.94-2.06-.94 2.06-2.06.94zm-11 1L8.5 8.5l.94-2.06 2.06-.94-2.06-.94L8.5 2.5l-.94 2.06-2.06.94zm10 10l.94 2.06.94-2.06 2.06-.94-2.06-.94-.94-2.06-.94 2.06-2.06.94z\"/><path d=\"M17.41 7.96l-1.37-1.37c-.4-.4-.92-.59-1.43-.59-.52 0-1.04.2-1.43.59L10.3 9.45l-7.72 7.72c-.78.78-.78 2.05 0 2.83L4 21.41c.39.39.9.59 1.41.59.51 0 1.02-.2 1.41-.59l7.78-7.78 2.81-2.81c.8-.78.8-2.07 0-2.86zM5.41 20L4 18.59l7.72-7.72 1.47 1.35L5.41 20z\"/>\n",
              "  </svg>\n",
              "      </button>\n",
              "      \n",
              "  <style>\n",
              "    .colab-df-container {\n",
              "      display:flex;\n",
              "      flex-wrap:wrap;\n",
              "      gap: 12px;\n",
              "    }\n",
              "\n",
              "    .colab-df-convert {\n",
              "      background-color: #E8F0FE;\n",
              "      border: none;\n",
              "      border-radius: 50%;\n",
              "      cursor: pointer;\n",
              "      display: none;\n",
              "      fill: #1967D2;\n",
              "      height: 32px;\n",
              "      padding: 0 0 0 0;\n",
              "      width: 32px;\n",
              "    }\n",
              "\n",
              "    .colab-df-convert:hover {\n",
              "      background-color: #E2EBFA;\n",
              "      box-shadow: 0px 1px 2px rgba(60, 64, 67, 0.3), 0px 1px 3px 1px rgba(60, 64, 67, 0.15);\n",
              "      fill: #174EA6;\n",
              "    }\n",
              "\n",
              "    [theme=dark] .colab-df-convert {\n",
              "      background-color: #3B4455;\n",
              "      fill: #D2E3FC;\n",
              "    }\n",
              "\n",
              "    [theme=dark] .colab-df-convert:hover {\n",
              "      background-color: #434B5C;\n",
              "      box-shadow: 0px 1px 3px 1px rgba(0, 0, 0, 0.15);\n",
              "      filter: drop-shadow(0px 1px 2px rgba(0, 0, 0, 0.3));\n",
              "      fill: #FFFFFF;\n",
              "    }\n",
              "  </style>\n",
              "\n",
              "      <script>\n",
              "        const buttonEl =\n",
              "          document.querySelector('#df-7cd9c7fa-a5c8-4642-9a4a-fee94d413264 button.colab-df-convert');\n",
              "        buttonEl.style.display =\n",
              "          google.colab.kernel.accessAllowed ? 'block' : 'none';\n",
              "\n",
              "        async function convertToInteractive(key) {\n",
              "          const element = document.querySelector('#df-7cd9c7fa-a5c8-4642-9a4a-fee94d413264');\n",
              "          const dataTable =\n",
              "            await google.colab.kernel.invokeFunction('convertToInteractive',\n",
              "                                                     [key], {});\n",
              "          if (!dataTable) return;\n",
              "\n",
              "          const docLinkHtml = 'Like what you see? Visit the ' +\n",
              "            '<a target=\"_blank\" href=https://colab.research.google.com/notebooks/data_table.ipynb>data table notebook</a>'\n",
              "            + ' to learn more about interactive tables.';\n",
              "          element.innerHTML = '';\n",
              "          dataTable['output_type'] = 'display_data';\n",
              "          await google.colab.output.renderOutput(dataTable, element);\n",
              "          const docLink = document.createElement('div');\n",
              "          docLink.innerHTML = docLinkHtml;\n",
              "          element.appendChild(docLink);\n",
              "        }\n",
              "      </script>\n",
              "    </div>\n",
              "  </div>\n",
              "  "
            ]
          },
          "metadata": {},
          "execution_count": 3
        }
      ]
    },
    {
      "cell_type": "markdown",
      "source": [
        "# HW1: Question 1"
      ],
      "metadata": {
        "id": "DtELbBTufhpS"
      }
    },
    {
      "cell_type": "markdown",
      "source": [
        "a."
      ],
      "metadata": {
        "id": "UltMy1H1felU"
      }
    },
    {
      "cell_type": "code",
      "source": [
        "np.mean(HW1_data.WTP[HW1_data.If_rafted_before==\"Yes\"])"
      ],
      "metadata": {
        "colab": {
          "base_uri": "https://localhost:8080/"
        },
        "id": "N6btIbaAd7_G",
        "outputId": "acc6dede-7652-413a-c7d2-e9690c38ecdb"
      },
      "execution_count": 4,
      "outputs": [
        {
          "output_type": "execute_result",
          "data": {
            "text/plain": [
              "730.0"
            ]
          },
          "metadata": {},
          "execution_count": 4
        }
      ]
    },
    {
      "cell_type": "code",
      "source": [
        "np.mean(HW1_data.WTP[HW1_data.If_rafted_before==\"No\"])"
      ],
      "metadata": {
        "colab": {
          "base_uri": "https://localhost:8080/"
        },
        "id": "LT0FoTpwfvTh",
        "outputId": "a89682e3-c571-4e22-ae32-72d72451bc13"
      },
      "execution_count": 5,
      "outputs": [
        {
          "output_type": "execute_result",
          "data": {
            "text/plain": [
              "726.1904761904761"
            ]
          },
          "metadata": {},
          "execution_count": 5
        }
      ]
    },
    {
      "cell_type": "code",
      "source": [
        "HW1_data.groupby(['If_rafted_before'])['WTP'].mean()"
      ],
      "metadata": {
        "colab": {
          "base_uri": "https://localhost:8080/"
        },
        "id": "LBSBk5h5nFeR",
        "outputId": "526cb9cd-fe30-4e28-dbb2-3132f3657838"
      },
      "execution_count": 6,
      "outputs": [
        {
          "output_type": "execute_result",
          "data": {
            "text/plain": [
              "If_rafted_before\n",
              "No     726.190476\n",
              "Yes    730.000000\n",
              "Name: WTP, dtype: float64"
            ]
          },
          "metadata": {},
          "execution_count": 6
        }
      ]
    },
    {
      "cell_type": "markdown",
      "source": [
        "b."
      ],
      "metadata": {
        "id": "Tkqhlfexf3zz"
      }
    },
    {
      "cell_type": "code",
      "source": [
        "np.mean(HW1_data.WTP[HW1_data.If_camped_before==\"Yes\"])"
      ],
      "metadata": {
        "colab": {
          "base_uri": "https://localhost:8080/"
        },
        "id": "tLAkBK7hfmSD",
        "outputId": "20f4ed34-d635-4407-eed3-7c36bb778128"
      },
      "execution_count": 7,
      "outputs": [
        {
          "output_type": "execute_result",
          "data": {
            "text/plain": [
              "775.0"
            ]
          },
          "metadata": {},
          "execution_count": 7
        }
      ]
    },
    {
      "cell_type": "code",
      "source": [
        "np.mean(HW1_data.WTP[HW1_data.If_camped_before==\"No\"])"
      ],
      "metadata": {
        "colab": {
          "base_uri": "https://localhost:8080/"
        },
        "id": "iFFtrA_nfy7n",
        "outputId": "94340302-6b74-4b1d-9183-85651f5669c5"
      },
      "execution_count": 8,
      "outputs": [
        {
          "output_type": "execute_result",
          "data": {
            "text/plain": [
              "626.9230769230769"
            ]
          },
          "metadata": {},
          "execution_count": 8
        }
      ]
    },
    {
      "cell_type": "code",
      "source": [
        "HW1_data.groupby(['If_camped_before'])['WTP'].mean()"
      ],
      "metadata": {
        "colab": {
          "base_uri": "https://localhost:8080/"
        },
        "id": "-hm0z-_df6X-",
        "outputId": "8b66e412-84d6-4654-e037-83d246372b53"
      },
      "execution_count": 9,
      "outputs": [
        {
          "output_type": "execute_result",
          "data": {
            "text/plain": [
              "If_camped_before\n",
              "No     626.923077\n",
              "Yes    775.000000\n",
              "Name: WTP, dtype: float64"
            ]
          },
          "metadata": {},
          "execution_count": 9
        }
      ]
    },
    {
      "cell_type": "markdown",
      "source": [
        "c."
      ],
      "metadata": {
        "id": "AiVM2ui2nKy8"
      }
    },
    {
      "cell_type": "code",
      "source": [
        "HW1_data.groupby(['If_trekked_before'])['WTP'].mean()"
      ],
      "metadata": {
        "colab": {
          "base_uri": "https://localhost:8080/"
        },
        "id": "YLOhBt5Mf6WE",
        "outputId": "0ebfaba1-5dc4-41b8-9c09-cb5cb8feed8d"
      },
      "execution_count": 10,
      "outputs": [
        {
          "output_type": "execute_result",
          "data": {
            "text/plain": [
              "If_trekked_before\n",
              "No     804.166667\n",
              "Yes    696.551724\n",
              "Name: WTP, dtype: float64"
            ]
          },
          "metadata": {},
          "execution_count": 10
        }
      ]
    },
    {
      "cell_type": "markdown",
      "source": [
        "d."
      ],
      "metadata": {
        "id": "y-ZYhOq4nSYR"
      }
    },
    {
      "cell_type": "code",
      "source": [
        "np.mean(HW1_data.WTP[HW1_data.Age >25])"
      ],
      "metadata": {
        "colab": {
          "base_uri": "https://localhost:8080/"
        },
        "id": "AWlZEFDtf6TL",
        "outputId": "5371d846-537b-4bfa-95d4-99afe328e7d2"
      },
      "execution_count": 11,
      "outputs": [
        {
          "output_type": "execute_result",
          "data": {
            "text/plain": [
              "809.375"
            ]
          },
          "metadata": {},
          "execution_count": 11
        }
      ]
    },
    {
      "cell_type": "code",
      "source": [
        "np.mean(HW1_data.WTP[HW1_data.Age <= 25])"
      ],
      "metadata": {
        "colab": {
          "base_uri": "https://localhost:8080/"
        },
        "id": "1zl20jkJf6Qn",
        "outputId": "a2722e46-b759-453c-e5af-b8f532c777e3"
      },
      "execution_count": 12,
      "outputs": [
        {
          "output_type": "execute_result",
          "data": {
            "text/plain": [
              "676.0"
            ]
          },
          "metadata": {},
          "execution_count": 12
        }
      ]
    },
    {
      "cell_type": "markdown",
      "source": [
        "e."
      ],
      "metadata": {
        "id": "yndy5uCFniJl"
      }
    },
    {
      "cell_type": "code",
      "source": [
        "HW1_data.groupby(['Gender'])['WTP'].mean()"
      ],
      "metadata": {
        "colab": {
          "base_uri": "https://localhost:8080/"
        },
        "id": "eo7sJ_Iif6Od",
        "outputId": "5cc89e1e-b88b-44f1-b7c1-d9497326db96"
      },
      "execution_count": 13,
      "outputs": [
        {
          "output_type": "execute_result",
          "data": {
            "text/plain": [
              "Gender\n",
              "F    720.000\n",
              "M    740.625\n",
              "Name: WTP, dtype: float64"
            ]
          },
          "metadata": {},
          "execution_count": 13
        }
      ]
    },
    {
      "cell_type": "markdown",
      "source": [
        "f."
      ],
      "metadata": {
        "id": "v1jdYDIUnmR7"
      }
    },
    {
      "cell_type": "code",
      "source": [
        "HW1_data.groupby(['Marital_status'])['WTP'].mean()"
      ],
      "metadata": {
        "colab": {
          "base_uri": "https://localhost:8080/"
        },
        "id": "gk-gXkbKf6L1",
        "outputId": "bb9754d8-1afa-48b4-c152-420ebe144321"
      },
      "execution_count": 14,
      "outputs": [
        {
          "output_type": "execute_result",
          "data": {
            "text/plain": [
              "Marital_status\n",
              "Married    1070.000000\n",
              "Single      680.555556\n",
              "Name: WTP, dtype: float64"
            ]
          },
          "metadata": {},
          "execution_count": 14
        }
      ]
    },
    {
      "cell_type": "code",
      "source": [
        ""
      ],
      "metadata": {
        "id": "bL3uqm0Uf6JS"
      },
      "execution_count": 14,
      "outputs": []
    },
    {
      "cell_type": "code",
      "source": [
        ""
      ],
      "metadata": {
        "id": "ZttAF4Ghf6Gw"
      },
      "execution_count": 14,
      "outputs": []
    },
    {
      "cell_type": "markdown",
      "source": [
        "# HW1: Question 2"
      ],
      "metadata": {
        "id": "81O5gu2Hnshy"
      }
    },
    {
      "cell_type": "markdown",
      "source": [
        "# HW1: Linear Model"
      ],
      "metadata": {
        "id": "C4WQJVBBPlXP"
      }
    },
    {
      "cell_type": "code",
      "source": [
        "HW1_data.head()"
      ],
      "metadata": {
        "colab": {
          "base_uri": "https://localhost:8080/",
          "height": 206
        },
        "id": "2hmQTnBDoQGE",
        "outputId": "1e8675b1-8b28-4b0b-df2a-d89a2c303c9e"
      },
      "execution_count": 15,
      "outputs": [
        {
          "output_type": "execute_result",
          "data": {
            "text/plain": [
              "   id  WTP If_rafted_before If_camped_before If_trekked_before  Age Gender  \\\n",
              "0   1  600              Yes              Yes                No   23      M   \n",
              "1   2  700               No              Yes               Yes   23      M   \n",
              "2   3  600              Yes              Yes               Yes   23      F   \n",
              "3   4  900              Yes              Yes               Yes   28      M   \n",
              "4   5  800              Yes               No               Yes   30      M   \n",
              "\n",
              "  Marital_status  \n",
              "0         Single  \n",
              "1         Single  \n",
              "2         Single  \n",
              "3         Single  \n",
              "4        Married  "
            ],
            "text/html": [
              "\n",
              "  <div id=\"df-2b229bc6-61f4-4686-b8a8-1879bf567b72\">\n",
              "    <div class=\"colab-df-container\">\n",
              "      <div>\n",
              "<style scoped>\n",
              "    .dataframe tbody tr th:only-of-type {\n",
              "        vertical-align: middle;\n",
              "    }\n",
              "\n",
              "    .dataframe tbody tr th {\n",
              "        vertical-align: top;\n",
              "    }\n",
              "\n",
              "    .dataframe thead th {\n",
              "        text-align: right;\n",
              "    }\n",
              "</style>\n",
              "<table border=\"1\" class=\"dataframe\">\n",
              "  <thead>\n",
              "    <tr style=\"text-align: right;\">\n",
              "      <th></th>\n",
              "      <th>id</th>\n",
              "      <th>WTP</th>\n",
              "      <th>If_rafted_before</th>\n",
              "      <th>If_camped_before</th>\n",
              "      <th>If_trekked_before</th>\n",
              "      <th>Age</th>\n",
              "      <th>Gender</th>\n",
              "      <th>Marital_status</th>\n",
              "    </tr>\n",
              "  </thead>\n",
              "  <tbody>\n",
              "    <tr>\n",
              "      <th>0</th>\n",
              "      <td>1</td>\n",
              "      <td>600</td>\n",
              "      <td>Yes</td>\n",
              "      <td>Yes</td>\n",
              "      <td>No</td>\n",
              "      <td>23</td>\n",
              "      <td>M</td>\n",
              "      <td>Single</td>\n",
              "    </tr>\n",
              "    <tr>\n",
              "      <th>1</th>\n",
              "      <td>2</td>\n",
              "      <td>700</td>\n",
              "      <td>No</td>\n",
              "      <td>Yes</td>\n",
              "      <td>Yes</td>\n",
              "      <td>23</td>\n",
              "      <td>M</td>\n",
              "      <td>Single</td>\n",
              "    </tr>\n",
              "    <tr>\n",
              "      <th>2</th>\n",
              "      <td>3</td>\n",
              "      <td>600</td>\n",
              "      <td>Yes</td>\n",
              "      <td>Yes</td>\n",
              "      <td>Yes</td>\n",
              "      <td>23</td>\n",
              "      <td>F</td>\n",
              "      <td>Single</td>\n",
              "    </tr>\n",
              "    <tr>\n",
              "      <th>3</th>\n",
              "      <td>4</td>\n",
              "      <td>900</td>\n",
              "      <td>Yes</td>\n",
              "      <td>Yes</td>\n",
              "      <td>Yes</td>\n",
              "      <td>28</td>\n",
              "      <td>M</td>\n",
              "      <td>Single</td>\n",
              "    </tr>\n",
              "    <tr>\n",
              "      <th>4</th>\n",
              "      <td>5</td>\n",
              "      <td>800</td>\n",
              "      <td>Yes</td>\n",
              "      <td>No</td>\n",
              "      <td>Yes</td>\n",
              "      <td>30</td>\n",
              "      <td>M</td>\n",
              "      <td>Married</td>\n",
              "    </tr>\n",
              "  </tbody>\n",
              "</table>\n",
              "</div>\n",
              "      <button class=\"colab-df-convert\" onclick=\"convertToInteractive('df-2b229bc6-61f4-4686-b8a8-1879bf567b72')\"\n",
              "              title=\"Convert this dataframe to an interactive table.\"\n",
              "              style=\"display:none;\">\n",
              "        \n",
              "  <svg xmlns=\"http://www.w3.org/2000/svg\" height=\"24px\"viewBox=\"0 0 24 24\"\n",
              "       width=\"24px\">\n",
              "    <path d=\"M0 0h24v24H0V0z\" fill=\"none\"/>\n",
              "    <path d=\"M18.56 5.44l.94 2.06.94-2.06 2.06-.94-2.06-.94-.94-2.06-.94 2.06-2.06.94zm-11 1L8.5 8.5l.94-2.06 2.06-.94-2.06-.94L8.5 2.5l-.94 2.06-2.06.94zm10 10l.94 2.06.94-2.06 2.06-.94-2.06-.94-.94-2.06-.94 2.06-2.06.94z\"/><path d=\"M17.41 7.96l-1.37-1.37c-.4-.4-.92-.59-1.43-.59-.52 0-1.04.2-1.43.59L10.3 9.45l-7.72 7.72c-.78.78-.78 2.05 0 2.83L4 21.41c.39.39.9.59 1.41.59.51 0 1.02-.2 1.41-.59l7.78-7.78 2.81-2.81c.8-.78.8-2.07 0-2.86zM5.41 20L4 18.59l7.72-7.72 1.47 1.35L5.41 20z\"/>\n",
              "  </svg>\n",
              "      </button>\n",
              "      \n",
              "  <style>\n",
              "    .colab-df-container {\n",
              "      display:flex;\n",
              "      flex-wrap:wrap;\n",
              "      gap: 12px;\n",
              "    }\n",
              "\n",
              "    .colab-df-convert {\n",
              "      background-color: #E8F0FE;\n",
              "      border: none;\n",
              "      border-radius: 50%;\n",
              "      cursor: pointer;\n",
              "      display: none;\n",
              "      fill: #1967D2;\n",
              "      height: 32px;\n",
              "      padding: 0 0 0 0;\n",
              "      width: 32px;\n",
              "    }\n",
              "\n",
              "    .colab-df-convert:hover {\n",
              "      background-color: #E2EBFA;\n",
              "      box-shadow: 0px 1px 2px rgba(60, 64, 67, 0.3), 0px 1px 3px 1px rgba(60, 64, 67, 0.15);\n",
              "      fill: #174EA6;\n",
              "    }\n",
              "\n",
              "    [theme=dark] .colab-df-convert {\n",
              "      background-color: #3B4455;\n",
              "      fill: #D2E3FC;\n",
              "    }\n",
              "\n",
              "    [theme=dark] .colab-df-convert:hover {\n",
              "      background-color: #434B5C;\n",
              "      box-shadow: 0px 1px 3px 1px rgba(0, 0, 0, 0.15);\n",
              "      filter: drop-shadow(0px 1px 2px rgba(0, 0, 0, 0.3));\n",
              "      fill: #FFFFFF;\n",
              "    }\n",
              "  </style>\n",
              "\n",
              "      <script>\n",
              "        const buttonEl =\n",
              "          document.querySelector('#df-2b229bc6-61f4-4686-b8a8-1879bf567b72 button.colab-df-convert');\n",
              "        buttonEl.style.display =\n",
              "          google.colab.kernel.accessAllowed ? 'block' : 'none';\n",
              "\n",
              "        async function convertToInteractive(key) {\n",
              "          const element = document.querySelector('#df-2b229bc6-61f4-4686-b8a8-1879bf567b72');\n",
              "          const dataTable =\n",
              "            await google.colab.kernel.invokeFunction('convertToInteractive',\n",
              "                                                     [key], {});\n",
              "          if (!dataTable) return;\n",
              "\n",
              "          const docLinkHtml = 'Like what you see? Visit the ' +\n",
              "            '<a target=\"_blank\" href=https://colab.research.google.com/notebooks/data_table.ipynb>data table notebook</a>'\n",
              "            + ' to learn more about interactive tables.';\n",
              "          element.innerHTML = '';\n",
              "          dataTable['output_type'] = 'display_data';\n",
              "          await google.colab.output.renderOutput(dataTable, element);\n",
              "          const docLink = document.createElement('div');\n",
              "          docLink.innerHTML = docLinkHtml;\n",
              "          element.appendChild(docLink);\n",
              "        }\n",
              "      </script>\n",
              "    </div>\n",
              "  </div>\n",
              "  "
            ]
          },
          "metadata": {},
          "execution_count": 15
        }
      ]
    },
    {
      "cell_type": "code",
      "source": [
        "HW1_data['WTP'].unique()"
      ],
      "metadata": {
        "colab": {
          "base_uri": "https://localhost:8080/"
        },
        "id": "dt9Z0RpMpSnI",
        "outputId": "17deffba-c3de-46fd-fdcd-3027822dbce5"
      },
      "execution_count": 16,
      "outputs": [
        {
          "output_type": "execute_result",
          "data": {
            "text/plain": [
              "array([ 600,  700,  900,  800,  750, 1200, 1000,  300,  200,  500,  650,\n",
              "        400,  250, 1500,  350, 1600, 1750,  450])"
            ]
          },
          "metadata": {},
          "execution_count": 16
        }
      ]
    },
    {
      "cell_type": "code",
      "source": [
        "#Problem #2 - define variables\n",
        "HW1_data_WTP = HW1_data['WTP']\n",
        "WTP_price = list(set([wtp for wtp in HW1_data_WTP]))\n",
        "WTP_demand = []"
      ],
      "metadata": {
        "id": "ZOkI8wQheXlo"
      },
      "execution_count": 17,
      "outputs": []
    },
    {
      "cell_type": "code",
      "source": [
        "len(WTP_price)"
      ],
      "metadata": {
        "colab": {
          "base_uri": "https://localhost:8080/"
        },
        "id": "fCEAtYrBpeAY",
        "outputId": "04f5cf8d-e343-4240-fe16-62e5153787ad"
      },
      "execution_count": 18,
      "outputs": [
        {
          "output_type": "execute_result",
          "data": {
            "text/plain": [
              "18"
            ]
          },
          "metadata": {},
          "execution_count": 18
        }
      ]
    },
    {
      "cell_type": "code",
      "source": [
        "#create demand variable - if WTP >= price...\n",
        "for price in WTP_price:\n",
        "    WTP_demand.append(len([wtp for wtp in HW1_data_WTP if wtp >= price]))"
      ],
      "metadata": {
        "id": "o5fURA_seaXK"
      },
      "execution_count": 19,
      "outputs": []
    },
    {
      "cell_type": "code",
      "source": [
        "plt.scatter(WTP_price, WTP_demand)"
      ],
      "metadata": {
        "colab": {
          "base_uri": "https://localhost:8080/",
          "height": 282
        },
        "id": "2k7Fq4_7qYPp",
        "outputId": "2bb821aa-76c0-42b7-84f7-a72a45f477b0"
      },
      "execution_count": 20,
      "outputs": [
        {
          "output_type": "execute_result",
          "data": {
            "text/plain": [
              "<matplotlib.collections.PathCollection at 0x7ffae47f8f90>"
            ]
          },
          "metadata": {},
          "execution_count": 20
        },
        {
          "output_type": "display_data",
          "data": {
            "text/plain": [
              "<Figure size 432x288 with 1 Axes>"
            ],
            "image/png": "[encoded data removed]"
          },
          "metadata": {
            "needs_background": "light"
          }
        }
      ]
    },
    {
      "cell_type": "code",
      "source": [
        "#create regression matrix (CODE BELOW IS ONLY FOR LINEAR REGRESSION - SEE NYHC PYTHON CODE)  \n",
        "X_input = []\n",
        "for price in WTP_price:\n",
        "    X_input.append([price])"
      ],
      "metadata": {
        "id": "fP0uMT9jeg9X"
      },
      "execution_count": 21,
      "outputs": []
    },
    {
      "cell_type": "code",
      "source": [
        "X2 = sm.add_constant(X_input)"
      ],
      "metadata": {
        "id": "hDIgVKFUeg24"
      },
      "execution_count": 22,
      "outputs": []
    },
    {
      "cell_type": "code",
      "source": [
        "#WTP_demand = beta0 + beta1 * price\n",
        "est = sm.OLS(WTP_demand, X2)\n",
        "est2 = est.fit()\n",
        "print(est2.summary()) "
      ],
      "metadata": {
        "colab": {
          "base_uri": "https://localhost:8080/"
        },
        "id": "SXEBr-jbekFJ",
        "outputId": "971193b6-9e44-43a3-fd4d-48596c3c9d3b"
      },
      "execution_count": 23,
      "outputs": [
        {
          "output_type": "stream",
          "name": "stdout",
          "text": [
            "                            OLS Regression Results                            \n",
            "==============================================================================\n",
            "Dep. Variable:                      y   R-squared:                       0.915\n",
            "Model:                            OLS   Adj. R-squared:                  0.910\n",
            "Method:                 Least Squares   F-statistic:                     172.7\n",
            "Date:                Sat, 18 Jun 2022   Prob (F-statistic):           5.46e-10\n",
            "Time:                        11:40:00   Log-Likelihood:                -50.453\n",
            "No. Observations:                  18   AIC:                             104.9\n",
            "Df Residuals:                      16   BIC:                             106.7\n",
            "Df Model:                           1                                         \n",
            "Covariance Type:            nonrobust                                         \n",
            "==============================================================================\n",
            "                 coef    std err          t      P>|t|      [0.025      0.975]\n",
            "------------------------------------------------------------------------------\n",
            "const         43.8400      1.953     22.448      0.000      39.700      47.980\n",
            "x1            -0.0286      0.002    -13.141      0.000      -0.033      -0.024\n",
            "==============================================================================\n",
            "Omnibus:                        2.539   Durbin-Watson:                   1.955\n",
            "Prob(Omnibus):                  0.281   Jarque-Bera (JB):                1.232\n",
            "Skew:                          -0.246   Prob(JB):                        0.540\n",
            "Kurtosis:                       1.816   Cond. No.                     1.76e+03\n",
            "==============================================================================\n",
            "\n",
            "Warnings:\n",
            "[1] Standard Errors assume that the covariance matrix of the errors is correctly specified.\n",
            "[2] The condition number is large, 1.76e+03. This might indicate that there are\n",
            "strong multicollinearity or other numerical problems.\n"
          ]
        },
        {
          "output_type": "stream",
          "name": "stderr",
          "text": [
            "/usr/local/lib/python3.7/dist-packages/scipy/stats/stats.py:1535: UserWarning: kurtosistest only valid for n>=20 ... continuing anyway, n=18\n",
            "  \"anyway, n=%i\" % int(n))\n"
          ]
        }
      ]
    },
    {
      "cell_type": "code",
      "source": [
        "#Print plots (CHANGE THE R^2 TO CONFORM TO YOUR REGRESSION OUTPUT)\n",
        "plt.plot(WTP_price,WTP_demand, 'ro')\n",
        "np_X_input=np.array(X_input)\n",
        "np_D_output=est2.params[0]+est2.params[1]*np_X_input\n",
        "plt.plot(np_X_input,np_D_output)\n",
        "plt.xlabel(\"price\"); plt.ylabel(\"demand\")\n",
        "r_squared = round(est2.rsquared, 2) * 100\n",
        "plt.title(f\"Linear Demand, R^2 = {r_squared}%\")\n"
      ],
      "metadata": {
        "colab": {
          "base_uri": "https://localhost:8080/",
          "height": 312
        },
        "id": "I8muhbUgellw",
        "outputId": "c8365344-a033-4012-cb33-4e371fb04f8c"
      },
      "execution_count": 24,
      "outputs": [
        {
          "output_type": "execute_result",
          "data": {
            "text/plain": [
              "Text(0.5, 1.0, 'Linear Demand, R^2 = 92.0%')"
            ]
          },
          "metadata": {},
          "execution_count": 24
        },
        {
          "output_type": "display_data",
          "data": {
            "text/plain": [
              "<Figure size 432x288 with 1 Axes>"
            ],
            "image/png": "[encoded data removed]"
          },
          "metadata": {
            "needs_background": "light"
          }
        }
      ]
    },
    {
      "cell_type": "code",
      "source": [
        "#Set up REVENUE optimization using the LINEAR MODEL for demand...\n",
        "#Define (negative) revenue\n",
        "def neg_revenue(p):\n",
        "    return -p*(est2.params[0]+1.0*p*est2.params[1])\n",
        "\n",
        "#The analytical optimal solution = -est2.params[0]/(2*est2.params[1])\n",
        "#Perform the optimization    \n",
        "result = minimize_scalar(neg_revenue, bounds = (0,np.inf),method = 'brent')\n",
        "print('Maximum revenue is %f, obtained at price %f.' %(-result.fun,result.x))"
      ],
      "metadata": {
        "colab": {
          "base_uri": "https://localhost:8080/"
        },
        "id": "-ib-OBHZecn-",
        "outputId": "8a287bf5-617e-4669-a161-ccc879f6c011"
      },
      "execution_count": 28,
      "outputs": [
        {
          "output_type": "stream",
          "name": "stdout",
          "text": [
            "Maximum revenue is 16817.991826, obtained at price 767.244563.\n"
          ]
        }
      ]
    },
    {
      "cell_type": "code",
      "source": [
        "est2.params"
      ],
      "metadata": {
        "colab": {
          "base_uri": "https://localhost:8080/"
        },
        "id": "5Uq5ZJzrC4rh",
        "outputId": "d85010e2-c6d9-4bce-efb9-d0e4f0e33418"
      },
      "execution_count": 29,
      "outputs": [
        {
          "output_type": "execute_result",
          "data": {
            "text/plain": [
              "array([ 4.38399766e+01, -2.85697538e-02])"
            ]
          },
          "metadata": {},
          "execution_count": 29
        }
      ]
    },
    {
      "cell_type": "code",
      "source": [
        "revenue_liner_model = -result.fun\n",
        "print(revenue_liner_model[0])\n",
        "optimal_price_liner_model = result.x\n",
        "print(optimal_price_liner_model[0])"
      ],
      "metadata": {
        "colab": {
          "base_uri": "https://localhost:8080/"
        },
        "id": "hyDikhbMCGAK",
        "outputId": "c3c66d0b-2bce-491c-f857-f5f45ed27130"
      },
      "execution_count": 201,
      "outputs": [
        {
          "output_type": "stream",
          "name": "stdout",
          "text": [
            "17686.201758028907\n",
            "552.6938049384033\n"
          ]
        }
      ]
    },
    {
      "cell_type": "markdown",
      "source": [
        "# HW1: Logistic Regression"
      ],
      "metadata": {
        "id": "3xjBGct9Prr4"
      }
    },
    {
      "cell_type": "markdown",
      "source": [
        "Logistic Regression"
      ],
      "metadata": {
        "id": "yKd4FZrjCKei"
      }
    },
    {
      "cell_type": "code",
      "source": [
        "from sklearn.linear_model import LogisticRegression\n",
        "from sklearn.preprocessing import MinMaxScaler"
      ],
      "metadata": {
        "id": "4-3efHT9CF9l"
      },
      "execution_count": 110,
      "outputs": []
    },
    {
      "cell_type": "code",
      "source": [
        "logit_model = LogisticRegression(max_iter=2000)"
      ],
      "metadata": {
        "id": "b34oUcU_CF55"
      },
      "execution_count": 131,
      "outputs": []
    },
    {
      "cell_type": "code",
      "source": [
        "df_logit = pd.DataFrame(WTP_demand, columns=['Demand'])\n",
        "df_logit['price'] = WTP_price"
      ],
      "metadata": {
        "id": "mVPm46qfIH-8"
      },
      "execution_count": 160,
      "outputs": []
    },
    {
      "cell_type": "code",
      "source": [
        "x = df_logit.iloc[:, 1].values\n",
        "y = df_logit.iloc[:, 0].values\n",
        "x= x.reshape(-1, 1)"
      ],
      "metadata": {
        "id": "SDodx6JoIM91"
      },
      "execution_count": 170,
      "outputs": []
    },
    {
      "cell_type": "code",
      "source": [
        "logit_model.fit(x, y)"
      ],
      "metadata": {
        "colab": {
          "base_uri": "https://localhost:8080/"
        },
        "id": "QF-zyFRdCo5d",
        "outputId": "c11ff15d-c1a5-4a15-9fab-e8a86f6aa1c5"
      },
      "execution_count": 171,
      "outputs": [
        {
          "output_type": "execute_result",
          "data": {
            "text/plain": [
              "LogisticRegression(max_iter=2000)"
            ]
          },
          "metadata": {},
          "execution_count": 171
        }
      ]
    },
    {
      "cell_type": "code",
      "source": [
        "logit_model.predict([[800]])"
      ],
      "metadata": {
        "colab": {
          "base_uri": "https://localhost:8080/"
        },
        "id": "kWKYXTL6Coyt",
        "outputId": "76f39835-9619-4d22-86c0-8e271729f9c6"
      },
      "execution_count": 172,
      "outputs": [
        {
          "output_type": "execute_result",
          "data": {
            "text/plain": [
              "array([16])"
            ]
          },
          "metadata": {},
          "execution_count": 172
        }
      ]
    },
    {
      "cell_type": "code",
      "source": [
        "logit_model.coef_.reshape(1,-1)"
      ],
      "metadata": {
        "colab": {
          "base_uri": "https://localhost:8080/"
        },
        "id": "OfZo1fJTHrEz",
        "outputId": "a9f06de5-f6ec-46ca-9ffb-9044074e10f9"
      },
      "execution_count": 178,
      "outputs": [
        {
          "output_type": "execute_result",
          "data": {
            "text/plain": [
              "array([[ 0.61258633,  0.56619649,  0.52404182,  0.41057835,  0.30933432,\n",
              "         0.24322181,  0.18358457,  0.12870761,  0.08547072,  0.03821872,\n",
              "        -0.0310013 , -0.12234284, -0.21589355, -0.30082777, -0.40102304,\n",
              "        -0.51975817, -0.66404721, -0.84704669]])"
            ]
          },
          "metadata": {},
          "execution_count": 178
        }
      ]
    },
    {
      "cell_type": "code",
      "source": [
        "logit_model.intercept_"
      ],
      "metadata": {
        "colab": {
          "base_uri": "https://localhost:8080/"
        },
        "id": "K3DbEzkuHrCE",
        "outputId": "401ab4f6-f86a-43f4-94d6-b8e8793ed425"
      },
      "execution_count": 174,
      "outputs": [
        {
          "output_type": "execute_result",
          "data": {
            "text/plain": [
              "array([-580.7470859 , -503.13952796, -437.81583564, -274.27255322,\n",
              "       -159.10772023,  -96.3395284 ,  -45.74965814,   -3.3682557 ,\n",
              "         27.9322991 ,   59.86632586,  103.23935026,  153.7232502 ,\n",
              "        198.09171773,  234.16926972,  271.75345668,  310.35703821,\n",
              "        350.0716251 ,  391.33583154])"
            ]
          },
          "metadata": {},
          "execution_count": 174
        }
      ]
    },
    {
      "cell_type": "code",
      "source": [
        "preds = logit_model.predict(x)\n",
        "preds"
      ],
      "metadata": {
        "colab": {
          "base_uri": "https://localhost:8080/"
        },
        "id": "RbC7ZdjOM89P",
        "outputId": "2e2c3acb-5604-4745-a824-40d75175029b"
      },
      "execution_count": 182,
      "outputs": [
        {
          "output_type": "execute_result",
          "data": {
            "text/plain": [
              "array([16,  2, 33, 11, 10, 41, 22, 38, 18,  5, 36, 32,  1, 27, 39,  3, 21,\n",
              "       37])"
            ]
          },
          "metadata": {},
          "execution_count": 182
        }
      ]
    },
    {
      "cell_type": "code",
      "source": [
        "y"
      ],
      "metadata": {
        "colab": {
          "base_uri": "https://localhost:8080/"
        },
        "id": "qgu26u5ANREW",
        "outputId": "05f11c39-491e-42c7-8d93-af35d50f2f02"
      },
      "execution_count": 183,
      "outputs": [
        {
          "output_type": "execute_result",
          "data": {
            "text/plain": [
              "array([16,  2, 33, 11, 10, 41, 22, 38, 18,  5, 36, 32,  1, 27, 39,  3, 21,\n",
              "       37])"
            ]
          },
          "metadata": {},
          "execution_count": 183
        }
      ]
    },
    {
      "cell_type": "code",
      "source": [
        "logit_model.score(x, y)"
      ],
      "metadata": {
        "colab": {
          "base_uri": "https://localhost:8080/"
        },
        "id": "HbtRM3JrNUYp",
        "outputId": "7d51bac2-ffa5-4048-d0d5-7112e3db9629"
      },
      "execution_count": 185,
      "outputs": [
        {
          "output_type": "execute_result",
          "data": {
            "text/plain": [
              "1.0"
            ]
          },
          "metadata": {},
          "execution_count": 185
        }
      ]
    },
    {
      "cell_type": "code",
      "source": [
        "def neg_revenue_Logit(p):\n",
        "  #print(p * logit_model.predict(np.array(p).reshape(-1,1)))\n",
        "  return -p * logit_model.predict(np.array(p).reshape(-1,1))\n",
        "\n",
        "#The analytical optimal solution = -est2.params[0]/(2*est2.params[1])\n",
        "#Perform the optimization    \n",
        "result_logit = minimize_scalar(neg_revenue_Logit, bounds = (0,2000),method = 'Bounded')\n",
        "print('Maximum revenue is %f, obtained at price %f.' %(-result_logit.fun,result_logit.x))"
      ],
      "metadata": {
        "colab": {
          "base_uri": "https://localhost:8080/"
        },
        "id": "HJOOadLmNUWN",
        "outputId": "1960e9c1-ce13-4927-9da2-18bf0eac2cb7"
      },
      "execution_count": 194,
      "outputs": [
        {
          "output_type": "stream",
          "name": "stdout",
          "text": [
            "Maximum revenue is 17686.201758, obtained at price 552.693805.\n"
          ]
        },
        {
          "output_type": "stream",
          "name": "stderr",
          "text": [
            "/usr/local/lib/python3.7/dist-packages/numpy/core/fromnumeric.py:86: VisibleDeprecationWarning: Creating an ndarray from ragged nested sequences (which is a list-or-tuple of lists-or-tuples-or ndarrays with different lengths or shapes) is deprecated. If you meant to do this, you must specify 'dtype=object' when creating the ndarray.\n",
            "  return ufunc.reduce(obj, axis, dtype, out, **passkwargs)\n",
            "/usr/local/lib/python3.7/dist-packages/numpy/core/fromnumeric.py:86: VisibleDeprecationWarning: Creating an ndarray from ragged nested sequences (which is a list-or-tuple of lists-or-tuples-or ndarrays with different lengths or shapes) is deprecated. If you meant to do this, you must specify 'dtype=object' when creating the ndarray.\n",
            "  return ufunc.reduce(obj, axis, dtype, out, **passkwargs)\n",
            "/usr/local/lib/python3.7/dist-packages/numpy/core/fromnumeric.py:86: VisibleDeprecationWarning: Creating an ndarray from ragged nested sequences (which is a list-or-tuple of lists-or-tuples-or ndarrays with different lengths or shapes) is deprecated. If you meant to do this, you must specify 'dtype=object' when creating the ndarray.\n",
            "  return ufunc.reduce(obj, axis, dtype, out, **passkwargs)\n"
          ]
        }
      ]
    },
    {
      "cell_type": "code",
      "source": [
        "revenue_logit_model = -result_logit.fun\n",
        "print(revenue_logit_model[0])\n",
        "optimal_price_Logit_model = result.x\n",
        "print(optimal_price_Logit_model[0])"
      ],
      "metadata": {
        "colab": {
          "base_uri": "https://localhost:8080/"
        },
        "id": "SMhO1sM3NUTt",
        "outputId": "58230d10-6e0e-4311-c705-af33cedfc618"
      },
      "execution_count": 202,
      "outputs": [
        {
          "output_type": "stream",
          "name": "stdout",
          "text": [
            "17686.201758028907\n",
            "552.6938049384033\n"
          ]
        }
      ]
    },
    {
      "cell_type": "markdown",
      "source": [
        "# HW1: Polynomial Regression"
      ],
      "metadata": {
        "id": "SqASp0HyP9j3"
      }
    },
    {
      "cell_type": "markdown",
      "source": [
        "Polynomials"
      ],
      "metadata": {
        "id": "ngy2kNbArsNR"
      }
    },
    {
      "cell_type": "code",
      "source": [
        "X_input_poly = []\n",
        "for price in WTP_price:\n",
        "    X_input_poly.append([price])"
      ],
      "metadata": {
        "id": "J8ppwYBLsZ0G"
      },
      "execution_count": 30,
      "outputs": []
    },
    {
      "cell_type": "code",
      "source": [
        "from sklearn.preprocessing import PolynomialFeatures\n",
        "polynomial_features= PolynomialFeatures(degree=3)\n",
        "\n",
        "poly_feat = polynomial_features.fit_transform(X_input_poly)\n",
        "poly_feat.shape"
      ],
      "metadata": {
        "colab": {
          "base_uri": "https://localhost:8080/"
        },
        "id": "KklcjOtHepeF",
        "outputId": "9a920f2e-f20f-4e82-e022-61610d18e8e0"
      },
      "execution_count": 31,
      "outputs": [
        {
          "output_type": "execute_result",
          "data": {
            "text/plain": [
              "(18, 4)"
            ]
          },
          "metadata": {},
          "execution_count": 31
        }
      ]
    },
    {
      "cell_type": "code",
      "source": [
        "X_input_poly"
      ],
      "metadata": {
        "colab": {
          "base_uri": "https://localhost:8080/"
        },
        "id": "7ynmIgKj6Sp3",
        "outputId": "99c92d31-5120-40e7-a243-bd9c9e5c567f"
      },
      "execution_count": 32,
      "outputs": [
        {
          "output_type": "execute_result",
          "data": {
            "text/plain": [
              "[[800],\n",
              " [1600],\n",
              " [450],\n",
              " [900],\n",
              " [1000],\n",
              " [200],\n",
              " [650],\n",
              " [300],\n",
              " [750],\n",
              " [1200],\n",
              " [400],\n",
              " [500],\n",
              " [1750],\n",
              " [600],\n",
              " [250],\n",
              " [1500],\n",
              " [700],\n",
              " [350]]"
            ]
          },
          "metadata": {},
          "execution_count": 32
        }
      ]
    },
    {
      "cell_type": "code",
      "source": [
        "poly_feat"
      ],
      "metadata": {
        "colab": {
          "base_uri": "https://localhost:8080/"
        },
        "id": "K4U0F-q8tym2",
        "outputId": "c31f39a4-48e5-4a8c-8d2e-0e62b25872bb"
      },
      "execution_count": 33,
      "outputs": [
        {
          "output_type": "execute_result",
          "data": {
            "text/plain": [
              "array([[1.000000e+00, 8.000000e+02, 6.400000e+05, 5.120000e+08],\n",
              "       [1.000000e+00, 1.600000e+03, 2.560000e+06, 4.096000e+09],\n",
              "       [1.000000e+00, 4.500000e+02, 2.025000e+05, 9.112500e+07],\n",
              "       [1.000000e+00, 9.000000e+02, 8.100000e+05, 7.290000e+08],\n",
              "       [1.000000e+00, 1.000000e+03, 1.000000e+06, 1.000000e+09],\n",
              "       [1.000000e+00, 2.000000e+02, 4.000000e+04, 8.000000e+06],\n",
              "       [1.000000e+00, 6.500000e+02, 4.225000e+05, 2.746250e+08],\n",
              "       [1.000000e+00, 3.000000e+02, 9.000000e+04, 2.700000e+07],\n",
              "       [1.000000e+00, 7.500000e+02, 5.625000e+05, 4.218750e+08],\n",
              "       [1.000000e+00, 1.200000e+03, 1.440000e+06, 1.728000e+09],\n",
              "       [1.000000e+00, 4.000000e+02, 1.600000e+05, 6.400000e+07],\n",
              "       [1.000000e+00, 5.000000e+02, 2.500000e+05, 1.250000e+08],\n",
              "       [1.000000e+00, 1.750000e+03, 3.062500e+06, 5.359375e+09],\n",
              "       [1.000000e+00, 6.000000e+02, 3.600000e+05, 2.160000e+08],\n",
              "       [1.000000e+00, 2.500000e+02, 6.250000e+04, 1.562500e+07],\n",
              "       [1.000000e+00, 1.500000e+03, 2.250000e+06, 3.375000e+09],\n",
              "       [1.000000e+00, 7.000000e+02, 4.900000e+05, 3.430000e+08],\n",
              "       [1.000000e+00, 3.500000e+02, 1.225000e+05, 4.287500e+07]])"
            ]
          },
          "metadata": {},
          "execution_count": 33
        }
      ]
    },
    {
      "cell_type": "code",
      "source": [
        "est_poly = sm.OLS(WTP_demand, poly_feat)\n",
        "est2_poly = est_poly.fit()\n",
        "print(est2_poly.summary())"
      ],
      "metadata": {
        "colab": {
          "base_uri": "https://localhost:8080/"
        },
        "id": "c-AlSn8es0tr",
        "outputId": "123a36c6-923e-4428-bcca-e71e5c9dd516"
      },
      "execution_count": 34,
      "outputs": [
        {
          "output_type": "stream",
          "name": "stdout",
          "text": [
            "                            OLS Regression Results                            \n",
            "==============================================================================\n",
            "Dep. Variable:                      y   R-squared:                       0.989\n",
            "Model:                            OLS   Adj. R-squared:                  0.986\n",
            "Method:                 Least Squares   F-statistic:                     402.8\n",
            "Date:                Sat, 18 Jun 2022   Prob (F-statistic):           8.08e-14\n",
            "Time:                        11:40:23   Log-Likelihood:                -32.436\n",
            "No. Observations:                  18   AIC:                             72.87\n",
            "Df Residuals:                      14   BIC:                             76.43\n",
            "Df Model:                           3                                         \n",
            "Covariance Type:            nonrobust                                         \n",
            "==============================================================================\n",
            "                 coef    std err          t      P>|t|      [0.025      0.975]\n",
            "------------------------------------------------------------------------------\n",
            "const         50.0994      2.843     17.624      0.000      44.002      56.196\n",
            "x1            -0.0354      0.012     -2.879      0.012      -0.062      -0.009\n",
            "x2         -1.716e-05   1.51e-05     -1.139      0.274   -4.95e-05    1.51e-05\n",
            "x3          1.254e-08   5.32e-09      2.356      0.034    1.12e-09     2.4e-08\n",
            "==============================================================================\n",
            "Omnibus:                        2.890   Durbin-Watson:                   2.370\n",
            "Prob(Omnibus):                  0.236   Jarque-Bera (JB):                1.188\n",
            "Skew:                           0.090   Prob(JB):                        0.552\n",
            "Kurtosis:                       1.754   Cond. No.                     1.35e+10\n",
            "==============================================================================\n",
            "\n",
            "Warnings:\n",
            "[1] Standard Errors assume that the covariance matrix of the errors is correctly specified.\n",
            "[2] The condition number is large, 1.35e+10. This might indicate that there are\n",
            "strong multicollinearity or other numerical problems.\n"
          ]
        },
        {
          "output_type": "stream",
          "name": "stderr",
          "text": [
            "/usr/local/lib/python3.7/dist-packages/scipy/stats/stats.py:1535: UserWarning: kurtosistest only valid for n>=20 ... continuing anyway, n=18\n",
            "  \"anyway, n=%i\" % int(n))\n"
          ]
        }
      ]
    },
    {
      "cell_type": "code",
      "source": [
        "est2_poly.params"
      ],
      "metadata": {
        "colab": {
          "base_uri": "https://localhost:8080/"
        },
        "id": "8ciS7EQNuEyh",
        "outputId": "0a614dee-983e-4b3e-c608-24f3743fc3c3"
      },
      "execution_count": 35,
      "outputs": [
        {
          "output_type": "execute_result",
          "data": {
            "text/plain": [
              "array([ 5.00993706e+01, -3.53669876e-02, -1.71592659e-05,  1.25376886e-08])"
            ]
          },
          "metadata": {},
          "execution_count": 35
        }
      ]
    },
    {
      "cell_type": "code",
      "source": [
        "est2.params"
      ],
      "metadata": {
        "colab": {
          "base_uri": "https://localhost:8080/"
        },
        "id": "ALO_dnvExNqI",
        "outputId": "425a2d46-3680-4dcb-f91c-27321aa2621b"
      },
      "execution_count": 36,
      "outputs": [
        {
          "output_type": "execute_result",
          "data": {
            "text/plain": [
              "array([ 4.38399766e+01, -2.85697538e-02])"
            ]
          },
          "metadata": {},
          "execution_count": 36
        }
      ]
    },
    {
      "cell_type": "code",
      "source": [
        "#Print plots (CHANGE THE R^2 TO CONFORM TO YOUR REGRESSION OUTPUT)\n",
        "plt.plot(WTP_price,WTP_demand, 'ro')\n",
        "np_X_input=np.array(X_input)\n",
        "np_D_output=est2_poly.params[0]+ (est2_poly.params[1]*np_X_input) + (est2_poly.params[2]*(np_X_input**2)) + (est2_poly.params[3]* (np_X_input **3))\n",
        "plt.plot(np_X_input,np_D_output)\n",
        "plt.xlabel(\"price\"); plt.ylabel(\"demand\")\n",
        "r_squared = round(est2_poly.rsquared, 2) * 100\n",
        "plt.title(f\"Linear Demand, R^2 = {r_squared}%\")\n"
      ],
      "metadata": {
        "colab": {
          "base_uri": "https://localhost:8080/",
          "height": 312
        },
        "id": "9yAWiCQltAu-",
        "outputId": "9a44521b-d7b8-4fa8-d6b1-8446cf5d4c30"
      },
      "execution_count": 39,
      "outputs": [
        {
          "output_type": "execute_result",
          "data": {
            "text/plain": [
              "Text(0.5, 1.0, 'Linear Demand, R^2 = 99.0%')"
            ]
          },
          "metadata": {},
          "execution_count": 39
        },
        {
          "output_type": "display_data",
          "data": {
            "text/plain": [
              "<Figure size 432x288 with 1 Axes>"
            ],
            "image/png": "[encoded data removed]"
          },
          "metadata": {
            "needs_background": "light"
          }
        }
      ]
    },
    {
      "cell_type": "code",
      "source": [
        "#Set up REVENUE optimization using the LINEAR MODEL for demand...\n",
        "#Define (negative) revenue\n",
        "def neg_revenue_poly(p):\n",
        "    return -p*(est2_poly.params[0]+1.0*p*est2_poly.params[1] + 1.0*(p**2 )*(est2_poly.params[2]) + 1.0*(p**3)*(est2_poly.params[3]))\n",
        "\n",
        "#The analytical optimal solution = -est2.params[0]/(2*est2.params[1])\n",
        "#Perform the optimization    \n",
        "result_poly = minimize_scalar(neg_revenue_poly,bounds = (0,2000),method = 'Bounded')\n",
        "print('Maximum revenue is %f, obtained at price %f.' %(-result_poly.fun,result_poly.x))"
      ],
      "metadata": {
        "colab": {
          "base_uri": "https://localhost:8080/"
        },
        "id": "PSG3hdksxtXF",
        "outputId": "b7dd51af-1f00-4ca4-f364-750ec3dfcc41"
      },
      "execution_count": 46,
      "outputs": [
        {
          "output_type": "stream",
          "name": "stdout",
          "text": [
            "Maximum revenue is 15246.000280, obtained at price 599.483704.\n"
          ]
        }
      ]
    },
    {
      "cell_type": "code",
      "source": [
        "revenue_poly_model = -result_poly.fun\n",
        "print(revenue_poly_model)\n",
        "optimal_price_poly_model = result.x\n",
        "print(optimal_price_poly_model[0])"
      ],
      "metadata": {
        "colab": {
          "base_uri": "https://localhost:8080/"
        },
        "id": "QpaVZPgLppSv",
        "outputId": "a3be1763-bd01-4557-baba-b7bd6d753237"
      },
      "execution_count": 206,
      "outputs": [
        {
          "output_type": "stream",
          "name": "stdout",
          "text": [
            "15246.00028040024\n",
            "552.6938049384033\n"
          ]
        }
      ]
    },
    {
      "cell_type": "code",
      "source": [
        "est2_poly.params"
      ],
      "metadata": {
        "colab": {
          "base_uri": "https://localhost:8080/"
        },
        "id": "iXwstxrl1SIR",
        "outputId": "ab03c741-88bc-4daf-dd67-dca4e54f06db"
      },
      "execution_count": 48,
      "outputs": [
        {
          "output_type": "execute_result",
          "data": {
            "text/plain": [
              "array([ 5.00993706e+01, -3.53669876e-02, -1.71592659e-05,  1.25376886e-08])"
            ]
          },
          "metadata": {},
          "execution_count": 48
        }
      ]
    },
    {
      "cell_type": "code",
      "source": [
        "-result_poly.fun"
      ],
      "metadata": {
        "colab": {
          "base_uri": "https://localhost:8080/"
        },
        "id": "OoA_pP5VBxmt",
        "outputId": "688b5a8e-fca1-4730-eb9e-c547bffc4ee0"
      },
      "execution_count": 204,
      "outputs": [
        {
          "output_type": "execute_result",
          "data": {
            "text/plain": [
              "15246.00028040024"
            ]
          },
          "metadata": {},
          "execution_count": 204
        }
      ]
    },
    {
      "cell_type": "markdown",
      "source": [
        "# HW1: Question 3"
      ],
      "metadata": {
        "id": "4qzyKWt7139M"
      }
    },
    {
      "cell_type": "markdown",
      "source": [
        "optimal price: 599.48, Maximum Revenue: 15246.00"
      ],
      "metadata": {
        "id": "aF-Khi9h17yT"
      }
    },
    {
      "cell_type": "code",
      "source": [
        "revenue = [round(revenue_liner_model[0], 2), round(revenue_logit_model[0], 2), round(revenue_poly_model, 2)]\n",
        "price = [round(optimal_price_liner_model[0], 2), round(optimal_price_Logit_model[0], 2), round(optimal_price_poly_model[0], 2)]\n",
        "df_optimal = pd.DataFrame({'Total Revenue': revenue, 'Optimal Price': price}, index=['Liner', 'Logistic', 'Polynomial'])\n"
      ],
      "metadata": {
        "id": "uAy6y4hu15gX"
      },
      "execution_count": 218,
      "outputs": []
    },
    {
      "cell_type": "code",
      "source": [
        "df_optimal"
      ],
      "metadata": {
        "colab": {
          "base_uri": "https://localhost:8080/",
          "height": 143
        },
        "id": "olMifTzLR5sg",
        "outputId": "382f9950-6b27-4d89-ca2c-e31d76f0bc97"
      },
      "execution_count": 219,
      "outputs": [
        {
          "output_type": "execute_result",
          "data": {
            "text/plain": [
              "            Total Revenue  Optimal Price\n",
              "Liner             17686.2         552.69\n",
              "Logistic          17686.2         552.69\n",
              "Polynomial        15246.0         552.69"
            ],
            "text/html": [
              "\n",
              "  <div id=\"df-e64f7497-2ad9-4476-9059-e201ad98d483\">\n",
              "    <div class=\"colab-df-container\">\n",
              "      <div>\n",
              "<style scoped>\n",
              "    .dataframe tbody tr th:only-of-type {\n",
              "        vertical-align: middle;\n",
              "    }\n",
              "\n",
              "    .dataframe tbody tr th {\n",
              "        vertical-align: top;\n",
              "    }\n",
              "\n",
              "    .dataframe thead th {\n",
              "        text-align: right;\n",
              "    }\n",
              "</style>\n",
              "<table border=\"1\" class=\"dataframe\">\n",
              "  <thead>\n",
              "    <tr style=\"text-align: right;\">\n",
              "      <th></th>\n",
              "      <th>Total Revenue</th>\n",
              "      <th>Optimal Price</th>\n",
              "    </tr>\n",
              "  </thead>\n",
              "  <tbody>\n",
              "    <tr>\n",
              "      <th>Liner</th>\n",
              "      <td>17686.2</td>\n",
              "      <td>552.69</td>\n",
              "    </tr>\n",
              "    <tr>\n",
              "      <th>Logistic</th>\n",
              "      <td>17686.2</td>\n",
              "      <td>552.69</td>\n",
              "    </tr>\n",
              "    <tr>\n",
              "      <th>Polynomial</th>\n",
              "      <td>15246.0</td>\n",
              "      <td>552.69</td>\n",
              "    </tr>\n",
              "  </tbody>\n",
              "</table>\n",
              "</div>\n",
              "      <button class=\"colab-df-convert\" onclick=\"convertToInteractive('df-e64f7497-2ad9-4476-9059-e201ad98d483')\"\n",
              "              title=\"Convert this dataframe to an interactive table.\"\n",
              "              style=\"display:none;\">\n",
              "        \n",
              "  <svg xmlns=\"http://www.w3.org/2000/svg\" height=\"24px\"viewBox=\"0 0 24 24\"\n",
              "       width=\"24px\">\n",
              "    <path d=\"M0 0h24v24H0V0z\" fill=\"none\"/>\n",
              "    <path d=\"M18.56 5.44l.94 2.06.94-2.06 2.06-.94-2.06-.94-.94-2.06-.94 2.06-2.06.94zm-11 1L8.5 8.5l.94-2.06 2.06-.94-2.06-.94L8.5 2.5l-.94 2.06-2.06.94zm10 10l.94 2.06.94-2.06 2.06-.94-2.06-.94-.94-2.06-.94 2.06-2.06.94z\"/><path d=\"M17.41 7.96l-1.37-1.37c-.4-.4-.92-.59-1.43-.59-.52 0-1.04.2-1.43.59L10.3 9.45l-7.72 7.72c-.78.78-.78 2.05 0 2.83L4 21.41c.39.39.9.59 1.41.59.51 0 1.02-.2 1.41-.59l7.78-7.78 2.81-2.81c.8-.78.8-2.07 0-2.86zM5.41 20L4 18.59l7.72-7.72 1.47 1.35L5.41 20z\"/>\n",
              "  </svg>\n",
              "      </button>\n",
              "      \n",
              "  <style>\n",
              "    .colab-df-container {\n",
              "      display:flex;\n",
              "      flex-wrap:wrap;\n",
              "      gap: 12px;\n",
              "    }\n",
              "\n",
              "    .colab-df-convert {\n",
              "      background-color: #E8F0FE;\n",
              "      border: none;\n",
              "      border-radius: 50%;\n",
              "      cursor: pointer;\n",
              "      display: none;\n",
              "      fill: #1967D2;\n",
              "      height: 32px;\n",
              "      padding: 0 0 0 0;\n",
              "      width: 32px;\n",
              "    }\n",
              "\n",
              "    .colab-df-convert:hover {\n",
              "      background-color: #E2EBFA;\n",
              "      box-shadow: 0px 1px 2px rgba(60, 64, 67, 0.3), 0px 1px 3px 1px rgba(60, 64, 67, 0.15);\n",
              "      fill: #174EA6;\n",
              "    }\n",
              "\n",
              "    [theme=dark] .colab-df-convert {\n",
              "      background-color: #3B4455;\n",
              "      fill: #D2E3FC;\n",
              "    }\n",
              "\n",
              "    [theme=dark] .colab-df-convert:hover {\n",
              "      background-color: #434B5C;\n",
              "      box-shadow: 0px 1px 3px 1px rgba(0, 0, 0, 0.15);\n",
              "      filter: drop-shadow(0px 1px 2px rgba(0, 0, 0, 0.3));\n",
              "      fill: #FFFFFF;\n",
              "    }\n",
              "  </style>\n",
              "\n",
              "      <script>\n",
              "        const buttonEl =\n",
              "          document.querySelector('#df-e64f7497-2ad9-4476-9059-e201ad98d483 button.colab-df-convert');\n",
              "        buttonEl.style.display =\n",
              "          google.colab.kernel.accessAllowed ? 'block' : 'none';\n",
              "\n",
              "        async function convertToInteractive(key) {\n",
              "          const element = document.querySelector('#df-e64f7497-2ad9-4476-9059-e201ad98d483');\n",
              "          const dataTable =\n",
              "            await google.colab.kernel.invokeFunction('convertToInteractive',\n",
              "                                                     [key], {});\n",
              "          if (!dataTable) return;\n",
              "\n",
              "          const docLinkHtml = 'Like what you see? Visit the ' +\n",
              "            '<a target=\"_blank\" href=https://colab.research.google.com/notebooks/data_table.ipynb>data table notebook</a>'\n",
              "            + ' to learn more about interactive tables.';\n",
              "          element.innerHTML = '';\n",
              "          dataTable['output_type'] = 'display_data';\n",
              "          await google.colab.output.renderOutput(dataTable, element);\n",
              "          const docLink = document.createElement('div');\n",
              "          docLink.innerHTML = docLinkHtml;\n",
              "          element.appendChild(docLink);\n",
              "        }\n",
              "      </script>\n",
              "    </div>\n",
              "  </div>\n",
              "  "
            ]
          },
          "metadata": {},
          "execution_count": 219
        }
      ]
    },
    {
      "cell_type": "markdown",
      "source": [
        "# HW1: Question 4"
      ],
      "metadata": {
        "id": "N8cRtOzE2EVM"
      }
    },
    {
      "cell_type": "code",
      "source": [
        "HW1_data.head()"
      ],
      "metadata": {
        "colab": {
          "base_uri": "https://localhost:8080/",
          "height": 206
        },
        "id": "mMy0qvP-2Xqf",
        "outputId": "823874db-f08e-4957-f854-63d1da3745b9"
      },
      "execution_count": 49,
      "outputs": [
        {
          "output_type": "execute_result",
          "data": {
            "text/plain": [
              "   id  WTP If_rafted_before If_camped_before If_trekked_before  Age Gender  \\\n",
              "0   1  600              Yes              Yes                No   23      M   \n",
              "1   2  700               No              Yes               Yes   23      M   \n",
              "2   3  600              Yes              Yes               Yes   23      F   \n",
              "3   4  900              Yes              Yes               Yes   28      M   \n",
              "4   5  800              Yes               No               Yes   30      M   \n",
              "\n",
              "  Marital_status  \n",
              "0         Single  \n",
              "1         Single  \n",
              "2         Single  \n",
              "3         Single  \n",
              "4        Married  "
            ],
            "text/html": [
              "\n",
              "  <div id=\"df-b9e863d6-8c60-4306-9403-228b44a0d343\">\n",
              "    <div class=\"colab-df-container\">\n",
              "      <div>\n",
              "<style scoped>\n",
              "    .dataframe tbody tr th:only-of-type {\n",
              "        vertical-align: middle;\n",
              "    }\n",
              "\n",
              "    .dataframe tbody tr th {\n",
              "        vertical-align: top;\n",
              "    }\n",
              "\n",
              "    .dataframe thead th {\n",
              "        text-align: right;\n",
              "    }\n",
              "</style>\n",
              "<table border=\"1\" class=\"dataframe\">\n",
              "  <thead>\n",
              "    <tr style=\"text-align: right;\">\n",
              "      <th></th>\n",
              "      <th>id</th>\n",
              "      <th>WTP</th>\n",
              "      <th>If_rafted_before</th>\n",
              "      <th>If_camped_before</th>\n",
              "      <th>If_trekked_before</th>\n",
              "      <th>Age</th>\n",
              "      <th>Gender</th>\n",
              "      <th>Marital_status</th>\n",
              "    </tr>\n",
              "  </thead>\n",
              "  <tbody>\n",
              "    <tr>\n",
              "      <th>0</th>\n",
              "      <td>1</td>\n",
              "      <td>600</td>\n",
              "      <td>Yes</td>\n",
              "      <td>Yes</td>\n",
              "      <td>No</td>\n",
              "      <td>23</td>\n",
              "      <td>M</td>\n",
              "      <td>Single</td>\n",
              "    </tr>\n",
              "    <tr>\n",
              "      <th>1</th>\n",
              "      <td>2</td>\n",
              "      <td>700</td>\n",
              "      <td>No</td>\n",
              "      <td>Yes</td>\n",
              "      <td>Yes</td>\n",
              "      <td>23</td>\n",
              "      <td>M</td>\n",
              "      <td>Single</td>\n",
              "    </tr>\n",
              "    <tr>\n",
              "      <th>2</th>\n",
              "      <td>3</td>\n",
              "      <td>600</td>\n",
              "      <td>Yes</td>\n",
              "      <td>Yes</td>\n",
              "      <td>Yes</td>\n",
              "      <td>23</td>\n",
              "      <td>F</td>\n",
              "      <td>Single</td>\n",
              "    </tr>\n",
              "    <tr>\n",
              "      <th>3</th>\n",
              "      <td>4</td>\n",
              "      <td>900</td>\n",
              "      <td>Yes</td>\n",
              "      <td>Yes</td>\n",
              "      <td>Yes</td>\n",
              "      <td>28</td>\n",
              "      <td>M</td>\n",
              "      <td>Single</td>\n",
              "    </tr>\n",
              "    <tr>\n",
              "      <th>4</th>\n",
              "      <td>5</td>\n",
              "      <td>800</td>\n",
              "      <td>Yes</td>\n",
              "      <td>No</td>\n",
              "      <td>Yes</td>\n",
              "      <td>30</td>\n",
              "      <td>M</td>\n",
              "      <td>Married</td>\n",
              "    </tr>\n",
              "  </tbody>\n",
              "</table>\n",
              "</div>\n",
              "      <button class=\"colab-df-convert\" onclick=\"convertToInteractive('df-b9e863d6-8c60-4306-9403-228b44a0d343')\"\n",
              "              title=\"Convert this dataframe to an interactive table.\"\n",
              "              style=\"display:none;\">\n",
              "        \n",
              "  <svg xmlns=\"http://www.w3.org/2000/svg\" height=\"24px\"viewBox=\"0 0 24 24\"\n",
              "       width=\"24px\">\n",
              "    <path d=\"M0 0h24v24H0V0z\" fill=\"none\"/>\n",
              "    <path d=\"M18.56 5.44l.94 2.06.94-2.06 2.06-.94-2.06-.94-.94-2.06-.94 2.06-2.06.94zm-11 1L8.5 8.5l.94-2.06 2.06-.94-2.06-.94L8.5 2.5l-.94 2.06-2.06.94zm10 10l.94 2.06.94-2.06 2.06-.94-2.06-.94-.94-2.06-.94 2.06-2.06.94z\"/><path d=\"M17.41 7.96l-1.37-1.37c-.4-.4-.92-.59-1.43-.59-.52 0-1.04.2-1.43.59L10.3 9.45l-7.72 7.72c-.78.78-.78 2.05 0 2.83L4 21.41c.39.39.9.59 1.41.59.51 0 1.02-.2 1.41-.59l7.78-7.78 2.81-2.81c.8-.78.8-2.07 0-2.86zM5.41 20L4 18.59l7.72-7.72 1.47 1.35L5.41 20z\"/>\n",
              "  </svg>\n",
              "      </button>\n",
              "      \n",
              "  <style>\n",
              "    .colab-df-container {\n",
              "      display:flex;\n",
              "      flex-wrap:wrap;\n",
              "      gap: 12px;\n",
              "    }\n",
              "\n",
              "    .colab-df-convert {\n",
              "      background-color: #E8F0FE;\n",
              "      border: none;\n",
              "      border-radius: 50%;\n",
              "      cursor: pointer;\n",
              "      display: none;\n",
              "      fill: #1967D2;\n",
              "      height: 32px;\n",
              "      padding: 0 0 0 0;\n",
              "      width: 32px;\n",
              "    }\n",
              "\n",
              "    .colab-df-convert:hover {\n",
              "      background-color: #E2EBFA;\n",
              "      box-shadow: 0px 1px 2px rgba(60, 64, 67, 0.3), 0px 1px 3px 1px rgba(60, 64, 67, 0.15);\n",
              "      fill: #174EA6;\n",
              "    }\n",
              "\n",
              "    [theme=dark] .colab-df-convert {\n",
              "      background-color: #3B4455;\n",
              "      fill: #D2E3FC;\n",
              "    }\n",
              "\n",
              "    [theme=dark] .colab-df-convert:hover {\n",
              "      background-color: #434B5C;\n",
              "      box-shadow: 0px 1px 3px 1px rgba(0, 0, 0, 0.15);\n",
              "      filter: drop-shadow(0px 1px 2px rgba(0, 0, 0, 0.3));\n",
              "      fill: #FFFFFF;\n",
              "    }\n",
              "  </style>\n",
              "\n",
              "      <script>\n",
              "        const buttonEl =\n",
              "          document.querySelector('#df-b9e863d6-8c60-4306-9403-228b44a0d343 button.colab-df-convert');\n",
              "        buttonEl.style.display =\n",
              "          google.colab.kernel.accessAllowed ? 'block' : 'none';\n",
              "\n",
              "        async function convertToInteractive(key) {\n",
              "          const element = document.querySelector('#df-b9e863d6-8c60-4306-9403-228b44a0d343');\n",
              "          const dataTable =\n",
              "            await google.colab.kernel.invokeFunction('convertToInteractive',\n",
              "                                                     [key], {});\n",
              "          if (!dataTable) return;\n",
              "\n",
              "          const docLinkHtml = 'Like what you see? Visit the ' +\n",
              "            '<a target=\"_blank\" href=https://colab.research.google.com/notebooks/data_table.ipynb>data table notebook</a>'\n",
              "            + ' to learn more about interactive tables.';\n",
              "          element.innerHTML = '';\n",
              "          dataTable['output_type'] = 'display_data';\n",
              "          await google.colab.output.renderOutput(dataTable, element);\n",
              "          const docLink = document.createElement('div');\n",
              "          docLink.innerHTML = docLinkHtml;\n",
              "          element.appendChild(docLink);\n",
              "        }\n",
              "      </script>\n",
              "    </div>\n",
              "  </div>\n",
              "  "
            ]
          },
          "metadata": {},
          "execution_count": 49
        }
      ]
    },
    {
      "cell_type": "code",
      "source": [
        "df_rafted_before = HW1_data[HW1_data['If_rafted_before'] == 'Yes']"
      ],
      "metadata": {
        "id": "Hlxk9OcW2Fso"
      },
      "execution_count": 50,
      "outputs": []
    },
    {
      "cell_type": "code",
      "source": [
        "df_not_rafted_before = HW1_data[HW1_data['If_rafted_before'] == 'No']"
      ],
      "metadata": {
        "id": "SRZKGS9M2d_J"
      },
      "execution_count": 51,
      "outputs": []
    },
    {
      "cell_type": "code",
      "source": [
        "data_WTP_Rafted_Yes = df_rafted_before['WTP']\n",
        "data_WTP_Rafted_No = df_not_rafted_before['WTP']"
      ],
      "metadata": {
        "id": "cBy9Q-C627cS"
      },
      "execution_count": 52,
      "outputs": []
    },
    {
      "cell_type": "code",
      "source": [
        "WTP_price_rafted_yes = list(set([wtp for wtp in data_WTP_Rafted_Yes]))\n",
        "WTP_price_rafted_no = list(set([wtp for wtp in data_WTP_Rafted_No]))"
      ],
      "metadata": {
        "id": "Xuk4wls03Mcl"
      },
      "execution_count": 53,
      "outputs": []
    },
    {
      "cell_type": "code",
      "source": [
        "WTP_demand_rafted_yes = []\n",
        "WTP_demand_rafted_no = []"
      ],
      "metadata": {
        "id": "3E70iS474A3l"
      },
      "execution_count": 54,
      "outputs": []
    },
    {
      "cell_type": "code",
      "source": [
        "#create demand variable - if WTP >= price...\n",
        "for price in WTP_price_rafted_yes:\n",
        "    WTP_demand_rafted_yes.append(len([wtp for wtp in data_WTP_Rafted_Yes if wtp >= price]))\n",
        "\n",
        "for price in WTP_price_rafted_no:\n",
        "    WTP_demand_rafted_no.append(len([wtp for wtp in data_WTP_Rafted_No if wtp >= price]))"
      ],
      "metadata": {
        "id": "kzUAO6rt4Xul"
      },
      "execution_count": 55,
      "outputs": []
    },
    {
      "cell_type": "code",
      "source": [
        "X_input_rafted_yes = []\n",
        "for price in WTP_price_rafted_yes:\n",
        "    X_input_rafted_yes.append([price])"
      ],
      "metadata": {
        "id": "4DxJiUC643-z"
      },
      "execution_count": 56,
      "outputs": []
    },
    {
      "cell_type": "code",
      "source": [
        "X_input_rafted_no = []\n",
        "for price in WTP_price_rafted_no:\n",
        "    X_input_rafted_no.append([price])"
      ],
      "metadata": {
        "id": "S0-ggOmU48Sz"
      },
      "execution_count": 57,
      "outputs": []
    },
    {
      "cell_type": "code",
      "source": [
        "poly_feat_rafted_yes = polynomial_features.fit_transform(X_input_rafted_yes)\n",
        "poly_feat_rafted_no = polynomial_features.fit_transform(X_input_rafted_no)\n",
        "poly_feat_rafted_yes.shape, poly_feat_rafted_no.shape"
      ],
      "metadata": {
        "colab": {
          "base_uri": "https://localhost:8080/"
        },
        "id": "UFRL-SOw5g0U",
        "outputId": "9b911a14-94cb-4cb1-ff1c-d388047d43b2"
      },
      "execution_count": 58,
      "outputs": [
        {
          "output_type": "execute_result",
          "data": {
            "text/plain": [
              "((12, 4), (12, 4))"
            ]
          },
          "metadata": {},
          "execution_count": 58
        }
      ]
    },
    {
      "cell_type": "code",
      "source": [
        "poly_feat_rafted_yes"
      ],
      "metadata": {
        "colab": {
          "base_uri": "https://localhost:8080/"
        },
        "id": "EyeMTJls8q43",
        "outputId": "231703ac-aeb5-4674-de84-de60cf447c4f"
      },
      "execution_count": 59,
      "outputs": [
        {
          "output_type": "execute_result",
          "data": {
            "text/plain": [
              "array([[1.000000e+00, 8.000000e+02, 6.400000e+05, 5.120000e+08],\n",
              "       [1.000000e+00, 1.600000e+03, 2.560000e+06, 4.096000e+09],\n",
              "       [1.000000e+00, 9.000000e+02, 8.100000e+05, 7.290000e+08],\n",
              "       [1.000000e+00, 1.000000e+03, 1.000000e+06, 1.000000e+09],\n",
              "       [1.000000e+00, 2.000000e+02, 4.000000e+04, 8.000000e+06],\n",
              "       [1.000000e+00, 3.000000e+02, 9.000000e+04, 2.700000e+07],\n",
              "       [1.000000e+00, 4.000000e+02, 1.600000e+05, 6.400000e+07],\n",
              "       [1.000000e+00, 5.000000e+02, 2.500000e+05, 1.250000e+08],\n",
              "       [1.000000e+00, 1.750000e+03, 3.062500e+06, 5.359375e+09],\n",
              "       [1.000000e+00, 6.000000e+02, 3.600000e+05, 2.160000e+08],\n",
              "       [1.000000e+00, 2.500000e+02, 6.250000e+04, 1.562500e+07],\n",
              "       [1.000000e+00, 7.000000e+02, 4.900000e+05, 3.430000e+08]])"
            ]
          },
          "metadata": {},
          "execution_count": 59
        }
      ]
    },
    {
      "cell_type": "code",
      "source": [
        "poly_feat_rafted_no"
      ],
      "metadata": {
        "colab": {
          "base_uri": "https://localhost:8080/"
        },
        "id": "2M3G4wYE8tY8",
        "outputId": "7ec8428c-d5b0-428f-f04e-ff4024d04e2c"
      },
      "execution_count": 60,
      "outputs": [
        {
          "output_type": "execute_result",
          "data": {
            "text/plain": [
              "array([[1.00000e+00, 8.00000e+02, 6.40000e+05, 5.12000e+08],\n",
              "       [1.00000e+00, 4.50000e+02, 2.02500e+05, 9.11250e+07],\n",
              "       [1.00000e+00, 2.00000e+02, 4.00000e+04, 8.00000e+06],\n",
              "       [1.00000e+00, 1.00000e+03, 1.00000e+06, 1.00000e+09],\n",
              "       [1.00000e+00, 6.50000e+02, 4.22500e+05, 2.74625e+08],\n",
              "       [1.00000e+00, 7.50000e+02, 5.62500e+05, 4.21875e+08],\n",
              "       [1.00000e+00, 1.20000e+03, 1.44000e+06, 1.72800e+09],\n",
              "       [1.00000e+00, 5.00000e+02, 2.50000e+05, 1.25000e+08],\n",
              "       [1.00000e+00, 6.00000e+02, 3.60000e+05, 2.16000e+08],\n",
              "       [1.00000e+00, 1.50000e+03, 2.25000e+06, 3.37500e+09],\n",
              "       [1.00000e+00, 7.00000e+02, 4.90000e+05, 3.43000e+08],\n",
              "       [1.00000e+00, 3.50000e+02, 1.22500e+05, 4.28750e+07]])"
            ]
          },
          "metadata": {},
          "execution_count": 60
        }
      ]
    },
    {
      "cell_type": "code",
      "source": [
        "est_poly_rafted_yes = sm.OLS(WTP_demand_rafted_yes, poly_feat_rafted_yes).fit()\n",
        "est_poly_rafted_no = sm.OLS(WTP_demand_rafted_no, poly_feat_rafted_no).fit()"
      ],
      "metadata": {
        "id": "mBeERSoj5guE"
      },
      "execution_count": 61,
      "outputs": []
    },
    {
      "cell_type": "code",
      "source": [
        "est_poly_rafted_yes.summary()"
      ],
      "metadata": {
        "colab": {
          "base_uri": "https://localhost:8080/",
          "height": 564
        },
        "id": "9o5uIOZ_5gqt",
        "outputId": "66882378-0775-4876-8ce3-b7bfc118ec41"
      },
      "execution_count": 62,
      "outputs": [
        {
          "output_type": "stream",
          "name": "stderr",
          "text": [
            "/usr/local/lib/python3.7/dist-packages/scipy/stats/stats.py:1535: UserWarning: kurtosistest only valid for n>=20 ... continuing anyway, n=12\n",
            "  \"anyway, n=%i\" % int(n))\n"
          ]
        },
        {
          "output_type": "execute_result",
          "data": {
            "text/plain": [
              "<class 'statsmodels.iolib.summary.Summary'>\n",
              "\"\"\"\n",
              "                            OLS Regression Results                            \n",
              "==============================================================================\n",
              "Dep. Variable:                      y   R-squared:                       0.992\n",
              "Model:                            OLS   Adj. R-squared:                  0.989\n",
              "Method:                 Least Squares   F-statistic:                     323.2\n",
              "Date:                Sat, 18 Jun 2022   Prob (F-statistic):           1.10e-08\n",
              "Time:                        11:46:29   Log-Likelihood:                -10.446\n",
              "No. Observations:                  12   AIC:                             28.89\n",
              "Df Residuals:                       8   BIC:                             30.83\n",
              "Df Model:                           3                                         \n",
              "Covariance Type:            nonrobust                                         \n",
              "==============================================================================\n",
              "                 coef    std err          t      P>|t|      [0.025      0.975]\n",
              "------------------------------------------------------------------------------\n",
              "const         23.8679      1.457     16.387      0.000      20.509      27.227\n",
              "x1            -0.0175      0.007     -2.538      0.035      -0.033      -0.002\n",
              "x2         -6.144e-06   8.87e-06     -0.693      0.508   -2.66e-05    1.43e-05\n",
              "x3          5.076e-09   3.16e-09      1.605      0.147   -2.22e-09    1.24e-08\n",
              "==============================================================================\n",
              "Omnibus:                        1.229   Durbin-Watson:                   2.323\n",
              "Prob(Omnibus):                  0.541   Jarque-Bera (JB):                0.927\n",
              "Skew:                           0.447   Prob(JB):                        0.629\n",
              "Kurtosis:                       1.974   Cond. No.                     1.42e+10\n",
              "==============================================================================\n",
              "\n",
              "Warnings:\n",
              "[1] Standard Errors assume that the covariance matrix of the errors is correctly specified.\n",
              "[2] The condition number is large, 1.42e+10. This might indicate that there are\n",
              "strong multicollinearity or other numerical problems.\n",
              "\"\"\""
            ],
            "text/html": [
              "<table class=\"simpletable\">\n",
              "<caption>OLS Regression Results</caption>\n",
              "<tr>\n",
              "  <th>Dep. Variable:</th>            <td>y</td>        <th>  R-squared:         </th> <td>   0.992</td>\n",
              "</tr>\n",
              "<tr>\n",
              "  <th>Model:</th>                   <td>OLS</td>       <th>  Adj. R-squared:    </th> <td>   0.989</td>\n",
              "</tr>\n",
              "<tr>\n",
              "  <th>Method:</th>             <td>Least Squares</td>  <th>  F-statistic:       </th> <td>   323.2</td>\n",
              "</tr>\n",
              "<tr>\n",
              "  <th>Date:</th>             <td>Sat, 18 Jun 2022</td> <th>  Prob (F-statistic):</th> <td>1.10e-08</td>\n",
              "</tr>\n",
              "<tr>\n",
              "  <th>Time:</th>                 <td>11:46:29</td>     <th>  Log-Likelihood:    </th> <td> -10.446</td>\n",
              "</tr>\n",
              "<tr>\n",
              "  <th>No. Observations:</th>      <td>    12</td>      <th>  AIC:               </th> <td>   28.89</td>\n",
              "</tr>\n",
              "<tr>\n",
              "  <th>Df Residuals:</th>          <td>     8</td>      <th>  BIC:               </th> <td>   30.83</td>\n",
              "</tr>\n",
              "<tr>\n",
              "  <th>Df Model:</th>              <td>     3</td>      <th>                     </th>     <td> </td>   \n",
              "</tr>\n",
              "<tr>\n",
              "  <th>Covariance Type:</th>      <td>nonrobust</td>    <th>                     </th>     <td> </td>   \n",
              "</tr>\n",
              "</table>\n",
              "<table class=\"simpletable\">\n",
              "<tr>\n",
              "    <td></td>       <th>coef</th>     <th>std err</th>      <th>t</th>      <th>P>|t|</th>  <th>[0.025</th>    <th>0.975]</th>  \n",
              "</tr>\n",
              "<tr>\n",
              "  <th>const</th> <td>   23.8679</td> <td>    1.457</td> <td>   16.387</td> <td> 0.000</td> <td>   20.509</td> <td>   27.227</td>\n",
              "</tr>\n",
              "<tr>\n",
              "  <th>x1</th>    <td>   -0.0175</td> <td>    0.007</td> <td>   -2.538</td> <td> 0.035</td> <td>   -0.033</td> <td>   -0.002</td>\n",
              "</tr>\n",
              "<tr>\n",
              "  <th>x2</th>    <td>-6.144e-06</td> <td> 8.87e-06</td> <td>   -0.693</td> <td> 0.508</td> <td>-2.66e-05</td> <td> 1.43e-05</td>\n",
              "</tr>\n",
              "<tr>\n",
              "  <th>x3</th>    <td> 5.076e-09</td> <td> 3.16e-09</td> <td>    1.605</td> <td> 0.147</td> <td>-2.22e-09</td> <td> 1.24e-08</td>\n",
              "</tr>\n",
              "</table>\n",
              "<table class=\"simpletable\">\n",
              "<tr>\n",
              "  <th>Omnibus:</th>       <td> 1.229</td> <th>  Durbin-Watson:     </th> <td>   2.323</td>\n",
              "</tr>\n",
              "<tr>\n",
              "  <th>Prob(Omnibus):</th> <td> 0.541</td> <th>  Jarque-Bera (JB):  </th> <td>   0.927</td>\n",
              "</tr>\n",
              "<tr>\n",
              "  <th>Skew:</th>          <td> 0.447</td> <th>  Prob(JB):          </th> <td>   0.629</td>\n",
              "</tr>\n",
              "<tr>\n",
              "  <th>Kurtosis:</th>      <td> 1.974</td> <th>  Cond. No.          </th> <td>1.42e+10</td>\n",
              "</tr>\n",
              "</table><br/><br/>Warnings:<br/>[1] Standard Errors assume that the covariance matrix of the errors is correctly specified.<br/>[2] The condition number is large, 1.42e+10. This might indicate that there are<br/>strong multicollinearity or other numerical problems."
            ]
          },
          "metadata": {},
          "execution_count": 62
        }
      ]
    },
    {
      "cell_type": "code",
      "source": [
        "est_poly_rafted_yes.params"
      ],
      "metadata": {
        "colab": {
          "base_uri": "https://localhost:8080/"
        },
        "id": "_EwTN1Wf-TVB",
        "outputId": "67cec8fe-4203-4ad7-caf6-10a92e994412"
      },
      "execution_count": 63,
      "outputs": [
        {
          "output_type": "execute_result",
          "data": {
            "text/plain": [
              "array([ 2.38679272e+01, -1.74799723e-02, -6.14434531e-06,  5.07639161e-09])"
            ]
          },
          "metadata": {},
          "execution_count": 63
        }
      ]
    },
    {
      "cell_type": "code",
      "source": [
        "est_poly_rafted_no.summary()"
      ],
      "metadata": {
        "colab": {
          "base_uri": "https://localhost:8080/",
          "height": 564
        },
        "id": "DJd8ESLS5gnc",
        "outputId": "41fb7d72-ebc8-43d9-97cf-ea97a48ca9d5"
      },
      "execution_count": 64,
      "outputs": [
        {
          "output_type": "stream",
          "name": "stderr",
          "text": [
            "/usr/local/lib/python3.7/dist-packages/scipy/stats/stats.py:1535: UserWarning: kurtosistest only valid for n>=20 ... continuing anyway, n=12\n",
            "  \"anyway, n=%i\" % int(n))\n"
          ]
        },
        {
          "output_type": "execute_result",
          "data": {
            "text/plain": [
              "<class 'statsmodels.iolib.summary.Summary'>\n",
              "\"\"\"\n",
              "                            OLS Regression Results                            \n",
              "==============================================================================\n",
              "Dep. Variable:                      y   R-squared:                       0.971\n",
              "Model:                            OLS   Adj. R-squared:                  0.961\n",
              "Method:                 Least Squares   F-statistic:                     90.75\n",
              "Date:                Sat, 18 Jun 2022   Prob (F-statistic):           1.62e-06\n",
              "Time:                        11:46:32   Log-Likelihood:                -18.288\n",
              "No. Observations:                  12   AIC:                             44.58\n",
              "Df Residuals:                       8   BIC:                             46.51\n",
              "Df Model:                           3                                         \n",
              "Covariance Type:            nonrobust                                         \n",
              "==============================================================================\n",
              "                 coef    std err          t      P>|t|      [0.025      0.975]\n",
              "------------------------------------------------------------------------------\n",
              "const         23.3566      3.283      7.114      0.000      15.786      30.927\n",
              "x1             0.0004      0.015      0.026      0.980      -0.034       0.035\n",
              "x2         -3.808e-05      2e-05     -1.906      0.093   -8.42e-05    7.99e-06\n",
              "x3          1.877e-08    7.9e-09      2.375      0.045    5.45e-10     3.7e-08\n",
              "==============================================================================\n",
              "Omnibus:                        0.844   Durbin-Watson:                   2.242\n",
              "Prob(Omnibus):                  0.656   Jarque-Bera (JB):                0.637\n",
              "Skew:                           0.114   Prob(JB):                        0.727\n",
              "Kurtosis:                       1.895   Cond. No.                     9.68e+09\n",
              "==============================================================================\n",
              "\n",
              "Warnings:\n",
              "[1] Standard Errors assume that the covariance matrix of the errors is correctly specified.\n",
              "[2] The condition number is large, 9.68e+09. This might indicate that there are\n",
              "strong multicollinearity or other numerical problems.\n",
              "\"\"\""
            ],
            "text/html": [
              "<table class=\"simpletable\">\n",
              "<caption>OLS Regression Results</caption>\n",
              "<tr>\n",
              "  <th>Dep. Variable:</th>            <td>y</td>        <th>  R-squared:         </th> <td>   0.971</td>\n",
              "</tr>\n",
              "<tr>\n",
              "  <th>Model:</th>                   <td>OLS</td>       <th>  Adj. R-squared:    </th> <td>   0.961</td>\n",
              "</tr>\n",
              "<tr>\n",
              "  <th>Method:</th>             <td>Least Squares</td>  <th>  F-statistic:       </th> <td>   90.75</td>\n",
              "</tr>\n",
              "<tr>\n",
              "  <th>Date:</th>             <td>Sat, 18 Jun 2022</td> <th>  Prob (F-statistic):</th> <td>1.62e-06</td>\n",
              "</tr>\n",
              "<tr>\n",
              "  <th>Time:</th>                 <td>11:46:32</td>     <th>  Log-Likelihood:    </th> <td> -18.288</td>\n",
              "</tr>\n",
              "<tr>\n",
              "  <th>No. Observations:</th>      <td>    12</td>      <th>  AIC:               </th> <td>   44.58</td>\n",
              "</tr>\n",
              "<tr>\n",
              "  <th>Df Residuals:</th>          <td>     8</td>      <th>  BIC:               </th> <td>   46.51</td>\n",
              "</tr>\n",
              "<tr>\n",
              "  <th>Df Model:</th>              <td>     3</td>      <th>                     </th>     <td> </td>   \n",
              "</tr>\n",
              "<tr>\n",
              "  <th>Covariance Type:</th>      <td>nonrobust</td>    <th>                     </th>     <td> </td>   \n",
              "</tr>\n",
              "</table>\n",
              "<table class=\"simpletable\">\n",
              "<tr>\n",
              "    <td></td>       <th>coef</th>     <th>std err</th>      <th>t</th>      <th>P>|t|</th>  <th>[0.025</th>    <th>0.975]</th>  \n",
              "</tr>\n",
              "<tr>\n",
              "  <th>const</th> <td>   23.3566</td> <td>    3.283</td> <td>    7.114</td> <td> 0.000</td> <td>   15.786</td> <td>   30.927</td>\n",
              "</tr>\n",
              "<tr>\n",
              "  <th>x1</th>    <td>    0.0004</td> <td>    0.015</td> <td>    0.026</td> <td> 0.980</td> <td>   -0.034</td> <td>    0.035</td>\n",
              "</tr>\n",
              "<tr>\n",
              "  <th>x2</th>    <td>-3.808e-05</td> <td>    2e-05</td> <td>   -1.906</td> <td> 0.093</td> <td>-8.42e-05</td> <td> 7.99e-06</td>\n",
              "</tr>\n",
              "<tr>\n",
              "  <th>x3</th>    <td> 1.877e-08</td> <td>  7.9e-09</td> <td>    2.375</td> <td> 0.045</td> <td> 5.45e-10</td> <td>  3.7e-08</td>\n",
              "</tr>\n",
              "</table>\n",
              "<table class=\"simpletable\">\n",
              "<tr>\n",
              "  <th>Omnibus:</th>       <td> 0.844</td> <th>  Durbin-Watson:     </th> <td>   2.242</td>\n",
              "</tr>\n",
              "<tr>\n",
              "  <th>Prob(Omnibus):</th> <td> 0.656</td> <th>  Jarque-Bera (JB):  </th> <td>   0.637</td>\n",
              "</tr>\n",
              "<tr>\n",
              "  <th>Skew:</th>          <td> 0.114</td> <th>  Prob(JB):          </th> <td>   0.727</td>\n",
              "</tr>\n",
              "<tr>\n",
              "  <th>Kurtosis:</th>      <td> 1.895</td> <th>  Cond. No.          </th> <td>9.68e+09</td>\n",
              "</tr>\n",
              "</table><br/><br/>Warnings:<br/>[1] Standard Errors assume that the covariance matrix of the errors is correctly specified.<br/>[2] The condition number is large, 9.68e+09. This might indicate that there are<br/>strong multicollinearity or other numerical problems."
            ]
          },
          "metadata": {},
          "execution_count": 64
        }
      ]
    },
    {
      "cell_type": "code",
      "source": [
        "#Print plots (CHANGE THE R^2 TO CONFORM TO YOUR REGRESSION OUTPUT)\n",
        "plt.plot(WTP_price_rafted_yes,WTP_demand_rafted_yes, 'ro')\n",
        "np_X_input=np.array(X_input_rafted_yes)\n",
        "np_D_output=est_poly_rafted_yes.params[0]+ (est_poly_rafted_yes.params[1]*np_X_input) + ((est_poly_rafted_yes.params[2]**2)*np_X_input) + ((est_poly_rafted_yes.params[3]**3)*np_X_input)\n",
        "plt.plot(np_X_input,np_D_output)\n",
        "plt.xlabel(\"price\"); plt.ylabel(\"demand\")\n",
        "r_squared = round(est_poly_rafted_yes.rsquared, 2) * 100\n",
        "plt.title(f\"Rafted: Yes | Linear Demand, R^2 = {r_squared}%\")\n"
      ],
      "metadata": {
        "colab": {
          "base_uri": "https://localhost:8080/",
          "height": 312
        },
        "id": "HzADW9HI5gk8",
        "outputId": "8b21b195-9512-4da6-956f-0648c820c08e"
      },
      "execution_count": 65,
      "outputs": [
        {
          "output_type": "execute_result",
          "data": {
            "text/plain": [
              "Text(0.5, 1.0, 'Rafted: Yes | Linear Demand, R^2 = 99.0%')"
            ]
          },
          "metadata": {},
          "execution_count": 65
        },
        {
          "output_type": "display_data",
          "data": {
            "text/plain": [
              "<Figure size 432x288 with 1 Axes>"
            ],
            "image/png": "[encoded data removed]"
          },
          "metadata": {
            "needs_background": "light"
          }
        }
      ]
    },
    {
      "cell_type": "code",
      "source": [
        "#Print plots (CHANGE THE R^2 TO CONFORM TO YOUR REGRESSION OUTPUT)\n",
        "plt.plot(WTP_price_rafted_no,WTP_demand_rafted_no, 'ro')\n",
        "np_X_input=np.array(X_input_rafted_no)\n",
        "np_D_output=est_poly_rafted_no.params[0] + (est_poly_rafted_no.params[1]*np_X_input) + ((est_poly_rafted_no.params[2]**2)*np_X_input) + ((est_poly_rafted_no.params[3]**3)*np_X_input)\n",
        "plt.plot(np_X_input,np_D_output)\n",
        "plt.xlabel(\"price\"); plt.ylabel(\"demand\")\n",
        "r_squared = round(est_poly_rafted_no.rsquared, 2) * 100\n",
        "plt.title(f\"Rafted: No | Linear Demand, R^2 = {r_squared}%\")"
      ],
      "metadata": {
        "colab": {
          "base_uri": "https://localhost:8080/",
          "height": 312
        },
        "id": "rnLnFL7d2fkJ",
        "outputId": "d4464236-57c5-4927-d0a7-4776de5455f8"
      },
      "execution_count": 66,
      "outputs": [
        {
          "output_type": "execute_result",
          "data": {
            "text/plain": [
              "Text(0.5, 1.0, 'Rafted: No | Linear Demand, R^2 = 97.0%')"
            ]
          },
          "metadata": {},
          "execution_count": 66
        },
        {
          "output_type": "display_data",
          "data": {
            "text/plain": [
              "<Figure size 432x288 with 1 Axes>"
            ],
            "image/png": "[encoded data removed]"
          },
          "metadata": {
            "needs_background": "light"
          }
        }
      ]
    },
    {
      "cell_type": "code",
      "source": [
        "np_D_output"
      ],
      "metadata": {
        "colab": {
          "base_uri": "https://localhost:8080/"
        },
        "id": "b7ifPjYK9FH8",
        "outputId": "fc76e37d-686d-4c9b-f159-3d9b2380468c"
      },
      "execution_count": 67,
      "outputs": [
        {
          "output_type": "execute_result",
          "data": {
            "text/plain": [
              "array([[23.65998431],\n",
              "       [23.52727524],\n",
              "       [23.43248304],\n",
              "       [23.73581806],\n",
              "       [23.60310899],\n",
              "       [23.64102587],\n",
              "       [23.81165182],\n",
              "       [23.54623368],\n",
              "       [23.58415055],\n",
              "       [23.92540245],\n",
              "       [23.62206743],\n",
              "       [23.48935836]])"
            ]
          },
          "metadata": {},
          "execution_count": 67
        }
      ]
    },
    {
      "cell_type": "code",
      "source": [
        "np_X_input"
      ],
      "metadata": {
        "colab": {
          "base_uri": "https://localhost:8080/"
        },
        "id": "jC-yMk5x_pnv",
        "outputId": "14cf086c-890b-40ac-902a-5fea2491fc55"
      },
      "execution_count": 68,
      "outputs": [
        {
          "output_type": "execute_result",
          "data": {
            "text/plain": [
              "array([[ 800],\n",
              "       [ 450],\n",
              "       [ 200],\n",
              "       [1000],\n",
              "       [ 650],\n",
              "       [ 750],\n",
              "       [1200],\n",
              "       [ 500],\n",
              "       [ 600],\n",
              "       [1500],\n",
              "       [ 700],\n",
              "       [ 350]])"
            ]
          },
          "metadata": {},
          "execution_count": 68
        }
      ]
    },
    {
      "cell_type": "code",
      "source": [
        "est_poly_rafted_no.params"
      ],
      "metadata": {
        "colab": {
          "base_uri": "https://localhost:8080/"
        },
        "id": "QYKnd7m-8AYn",
        "outputId": "b600bcec-8772-4d32-ef23-d5e8401da0c7"
      },
      "execution_count": 69,
      "outputs": [
        {
          "output_type": "execute_result",
          "data": {
            "text/plain": [
              "array([ 2.33566493e+01,  3.79167326e-04, -3.80840391e-05,  1.87668543e-08])"
            ]
          },
          "metadata": {},
          "execution_count": 69
        }
      ]
    },
    {
      "cell_type": "code",
      "source": [
        "est_poly_rafted_yes.params"
      ],
      "metadata": {
        "colab": {
          "base_uri": "https://localhost:8080/"
        },
        "id": "b9adf_d38TOO",
        "outputId": "fc67fb75-a5f1-4209-ede3-c1410c3d97b1"
      },
      "execution_count": 70,
      "outputs": [
        {
          "output_type": "execute_result",
          "data": {
            "text/plain": [
              "array([ 2.38679272e+01, -1.74799723e-02, -6.14434531e-06,  5.07639161e-09])"
            ]
          },
          "metadata": {},
          "execution_count": 70
        }
      ]
    },
    {
      "cell_type": "code",
      "source": [
        "est2_poly.params"
      ],
      "metadata": {
        "colab": {
          "base_uri": "https://localhost:8080/"
        },
        "id": "st_D29Vy8VCA",
        "outputId": "cd0e2dfa-7d80-4108-ea77-8ec3f7ea4cbd"
      },
      "execution_count": 71,
      "outputs": [
        {
          "output_type": "execute_result",
          "data": {
            "text/plain": [
              "array([ 5.00993706e+01, -3.53669876e-02, -1.71592659e-05,  1.25376886e-08])"
            ]
          },
          "metadata": {},
          "execution_count": 71
        }
      ]
    },
    {
      "cell_type": "code",
      "source": [
        "est2.params"
      ],
      "metadata": {
        "colab": {
          "base_uri": "https://localhost:8080/"
        },
        "id": "BRAXoll08Zs_",
        "outputId": "55ec5d9a-2e07-4ed9-a992-77c97ae92989"
      },
      "execution_count": 72,
      "outputs": [
        {
          "output_type": "execute_result",
          "data": {
            "text/plain": [
              "array([ 4.38399766e+01, -2.85697538e-02])"
            ]
          },
          "metadata": {},
          "execution_count": 72
        }
      ]
    },
    {
      "cell_type": "code",
      "source": [
        ""
      ],
      "metadata": {
        "id": "ZsK0fqXE9QSQ"
      },
      "execution_count": 72,
      "outputs": []
    },
    {
      "cell_type": "code",
      "source": [
        "#Set up REVENUE optimization using the LINEAR MODEL for demand...\n",
        "#Define (negative) revenue\n",
        "def neg_revenue_poly_rafted_yes(p):\n",
        "    return -p*(est_poly_rafted_yes.params[0]+1.0*p*est_poly_rafted_yes.params[1] + 1.0*(p**2 )*(est_poly_rafted_yes.params[2]) + 1.0*(p**3)*(est_poly_rafted_yes.params[3]))\n",
        "\n",
        "#The analytical optimal solution = -est2.params[0]/(2*est2.params[1])\n",
        "#Perform the optimization    \n",
        "result_poly_rafted_yes = minimize_scalar(neg_revenue_poly_rafted_yes,bounds = (0,2000),method = 'brent')\n",
        "print('Maximum revenue is %f, obtained at price %f.' %(-result_poly_rafted_yes.fun,result_poly_rafted_yes.x))"
      ],
      "metadata": {
        "colab": {
          "base_uri": "https://localhost:8080/"
        },
        "outputId": "27432f23-8b8a-4c45-e4b9-3138f9c713b4",
        "id": "xZPk_Abr-wM3"
      },
      "execution_count": 74,
      "outputs": [
        {
          "output_type": "stream",
          "name": "stdout",
          "text": [
            "Maximum revenue is 7364.590276, obtained at price 618.445786.\n"
          ]
        }
      ]
    },
    {
      "cell_type": "code",
      "source": [
        "revenue_rafted_yes = -result_poly_rafted_yes.fun\n",
        "revenue_rafted_yes"
      ],
      "metadata": {
        "colab": {
          "base_uri": "https://localhost:8080/"
        },
        "id": "XY-C9zF9pPkF",
        "outputId": "369136d7-b59b-46d9-f985-955cae61cb41"
      },
      "execution_count": 84,
      "outputs": [
        {
          "output_type": "execute_result",
          "data": {
            "text/plain": [
              "7364.590276273623"
            ]
          },
          "metadata": {},
          "execution_count": 84
        }
      ]
    },
    {
      "cell_type": "code",
      "source": [
        "len(HW1_data[HW1_data['WTP'] > 767]) * 767"
      ],
      "metadata": {
        "colab": {
          "base_uri": "https://localhost:8080/"
        },
        "id": "Iwg78tW5-45m",
        "outputId": "017adb31-ad49-40f0-c0de-e7c781661d62"
      },
      "execution_count": 75,
      "outputs": [
        {
          "output_type": "execute_result",
          "data": {
            "text/plain": [
              "12272"
            ]
          },
          "metadata": {},
          "execution_count": 75
        }
      ]
    },
    {
      "cell_type": "code",
      "source": [
        "#Set up REVENUE optimization using the LINEAR MODEL for demand...\n",
        "#Define (negative) revenue\n",
        "def neg_revenue_poly_rafted_no(p):\n",
        "    return -p*(est_poly_rafted_no.params[0]+1.0*p*est_poly_rafted_no.params[1] + 1.0*(p**2 )*(est_poly_rafted_no.params[2]) + 1.0*(p**3)*(est_poly_rafted_no.params[3]))\n",
        "\n",
        "#The analytical optimal solution = -est2.params[0]/(2*est2.params[1])\n",
        "#Perform the optimization    \n",
        "result_poly_rafted_no = minimize_scalar(neg_revenue_poly_rafted_no,bounds = (0,np.inf),method = 'brent')\n",
        "print('Maximum revenue is %f, obtained at price %f.' %(-result_poly_rafted_no.fun,result_poly_rafted_no.x))"
      ],
      "metadata": {
        "colab": {
          "base_uri": "https://localhost:8080/"
        },
        "id": "JLr4W5mN_IIP",
        "outputId": "a7cc5991-995b-488d-a877-18c2df2cdf15"
      },
      "execution_count": 76,
      "outputs": [
        {
          "output_type": "stream",
          "name": "stdout",
          "text": [
            "Maximum revenue is 8367.506418, obtained at price 580.153973.\n"
          ]
        }
      ]
    },
    {
      "cell_type": "code",
      "source": [
        "revenue_rafted_no = -result_poly_rafted_no.fun\n",
        "revenue_rafted_no"
      ],
      "metadata": {
        "colab": {
          "base_uri": "https://localhost:8080/"
        },
        "id": "5RfVvjVXAvZC",
        "outputId": "b6c691ad-79d7-4035-aaa1-aa34bc5c64fb"
      },
      "execution_count": 85,
      "outputs": [
        {
          "output_type": "execute_result",
          "data": {
            "text/plain": [
              "8367.506418476974"
            ]
          },
          "metadata": {},
          "execution_count": 85
        }
      ]
    },
    {
      "cell_type": "code",
      "source": [
        "total_revenue = revenue_rafted_yes + revenue_rafted_no\n",
        "total_revenue"
      ],
      "metadata": {
        "colab": {
          "base_uri": "https://localhost:8080/"
        },
        "id": "2EVR0i6wpaY5",
        "outputId": "ffa6774d-19e7-4d91-ee69-e977a6b20cc0"
      },
      "execution_count": 86,
      "outputs": [
        {
          "output_type": "execute_result",
          "data": {
            "text/plain": [
              "15732.096694750599"
            ]
          },
          "metadata": {},
          "execution_count": 86
        }
      ]
    },
    {
      "cell_type": "code",
      "source": [
        "df_optimal"
      ],
      "metadata": {
        "colab": {
          "base_uri": "https://localhost:8080/",
          "height": 143
        },
        "id": "gfXyDDu4p2Gp",
        "outputId": "70d38d1c-94ce-4a1f-cd57-05c936679341"
      },
      "execution_count": 220,
      "outputs": [
        {
          "output_type": "execute_result",
          "data": {
            "text/plain": [
              "            Total Revenue  Optimal Price\n",
              "Liner             17686.2         552.69\n",
              "Logistic          17686.2         552.69\n",
              "Polynomial        15246.0         552.69"
            ],
            "text/html": [
              "\n",
              "  <div id=\"df-8cd7e092-ad13-4a7e-8c0f-7f61025c26bc\">\n",
              "    <div class=\"colab-df-container\">\n",
              "      <div>\n",
              "<style scoped>\n",
              "    .dataframe tbody tr th:only-of-type {\n",
              "        vertical-align: middle;\n",
              "    }\n",
              "\n",
              "    .dataframe tbody tr th {\n",
              "        vertical-align: top;\n",
              "    }\n",
              "\n",
              "    .dataframe thead th {\n",
              "        text-align: right;\n",
              "    }\n",
              "</style>\n",
              "<table border=\"1\" class=\"dataframe\">\n",
              "  <thead>\n",
              "    <tr style=\"text-align: right;\">\n",
              "      <th></th>\n",
              "      <th>Total Revenue</th>\n",
              "      <th>Optimal Price</th>\n",
              "    </tr>\n",
              "  </thead>\n",
              "  <tbody>\n",
              "    <tr>\n",
              "      <th>Liner</th>\n",
              "      <td>17686.2</td>\n",
              "      <td>552.69</td>\n",
              "    </tr>\n",
              "    <tr>\n",
              "      <th>Logistic</th>\n",
              "      <td>17686.2</td>\n",
              "      <td>552.69</td>\n",
              "    </tr>\n",
              "    <tr>\n",
              "      <th>Polynomial</th>\n",
              "      <td>15246.0</td>\n",
              "      <td>552.69</td>\n",
              "    </tr>\n",
              "  </tbody>\n",
              "</table>\n",
              "</div>\n",
              "      <button class=\"colab-df-convert\" onclick=\"convertToInteractive('df-8cd7e092-ad13-4a7e-8c0f-7f61025c26bc')\"\n",
              "              title=\"Convert this dataframe to an interactive table.\"\n",
              "              style=\"display:none;\">\n",
              "        \n",
              "  <svg xmlns=\"http://www.w3.org/2000/svg\" height=\"24px\"viewBox=\"0 0 24 24\"\n",
              "       width=\"24px\">\n",
              "    <path d=\"M0 0h24v24H0V0z\" fill=\"none\"/>\n",
              "    <path d=\"M18.56 5.44l.94 2.06.94-2.06 2.06-.94-2.06-.94-.94-2.06-.94 2.06-2.06.94zm-11 1L8.5 8.5l.94-2.06 2.06-.94-2.06-.94L8.5 2.5l-.94 2.06-2.06.94zm10 10l.94 2.06.94-2.06 2.06-.94-2.06-.94-.94-2.06-.94 2.06-2.06.94z\"/><path d=\"M17.41 7.96l-1.37-1.37c-.4-.4-.92-.59-1.43-.59-.52 0-1.04.2-1.43.59L10.3 9.45l-7.72 7.72c-.78.78-.78 2.05 0 2.83L4 21.41c.39.39.9.59 1.41.59.51 0 1.02-.2 1.41-.59l7.78-7.78 2.81-2.81c.8-.78.8-2.07 0-2.86zM5.41 20L4 18.59l7.72-7.72 1.47 1.35L5.41 20z\"/>\n",
              "  </svg>\n",
              "      </button>\n",
              "      \n",
              "  <style>\n",
              "    .colab-df-container {\n",
              "      display:flex;\n",
              "      flex-wrap:wrap;\n",
              "      gap: 12px;\n",
              "    }\n",
              "\n",
              "    .colab-df-convert {\n",
              "      background-color: #E8F0FE;\n",
              "      border: none;\n",
              "      border-radius: 50%;\n",
              "      cursor: pointer;\n",
              "      display: none;\n",
              "      fill: #1967D2;\n",
              "      height: 32px;\n",
              "      padding: 0 0 0 0;\n",
              "      width: 32px;\n",
              "    }\n",
              "\n",
              "    .colab-df-convert:hover {\n",
              "      background-color: #E2EBFA;\n",
              "      box-shadow: 0px 1px 2px rgba(60, 64, 67, 0.3), 0px 1px 3px 1px rgba(60, 64, 67, 0.15);\n",
              "      fill: #174EA6;\n",
              "    }\n",
              "\n",
              "    [theme=dark] .colab-df-convert {\n",
              "      background-color: #3B4455;\n",
              "      fill: #D2E3FC;\n",
              "    }\n",
              "\n",
              "    [theme=dark] .colab-df-convert:hover {\n",
              "      background-color: #434B5C;\n",
              "      box-shadow: 0px 1px 3px 1px rgba(0, 0, 0, 0.15);\n",
              "      filter: drop-shadow(0px 1px 2px rgba(0, 0, 0, 0.3));\n",
              "      fill: #FFFFFF;\n",
              "    }\n",
              "  </style>\n",
              "\n",
              "      <script>\n",
              "        const buttonEl =\n",
              "          document.querySelector('#df-8cd7e092-ad13-4a7e-8c0f-7f61025c26bc button.colab-df-convert');\n",
              "        buttonEl.style.display =\n",
              "          google.colab.kernel.accessAllowed ? 'block' : 'none';\n",
              "\n",
              "        async function convertToInteractive(key) {\n",
              "          const element = document.querySelector('#df-8cd7e092-ad13-4a7e-8c0f-7f61025c26bc');\n",
              "          const dataTable =\n",
              "            await google.colab.kernel.invokeFunction('convertToInteractive',\n",
              "                                                     [key], {});\n",
              "          if (!dataTable) return;\n",
              "\n",
              "          const docLinkHtml = 'Like what you see? Visit the ' +\n",
              "            '<a target=\"_blank\" href=https://colab.research.google.com/notebooks/data_table.ipynb>data table notebook</a>'\n",
              "            + ' to learn more about interactive tables.';\n",
              "          element.innerHTML = '';\n",
              "          dataTable['output_type'] = 'display_data';\n",
              "          await google.colab.output.renderOutput(dataTable, element);\n",
              "          const docLink = document.createElement('div');\n",
              "          docLink.innerHTML = docLinkHtml;\n",
              "          element.appendChild(docLink);\n",
              "        }\n",
              "      </script>\n",
              "    </div>\n",
              "  </div>\n",
              "  "
            ]
          },
          "metadata": {},
          "execution_count": 220
        }
      ]
    },
    {
      "cell_type": "code",
      "source": [
        ""
      ],
      "metadata": {
        "id": "R2nGoBQNqK0P"
      },
      "execution_count": null,
      "outputs": []
    },
    {
      "cell_type": "code",
      "source": [
        ""
      ],
      "metadata": {
        "id": "XA-R-KlIqefO"
      },
      "execution_count": null,
      "outputs": []
    },
    {
      "cell_type": "code",
      "source": [
        ""
      ],
      "metadata": {
        "id": "12JHzCIXqea_"
      },
      "execution_count": null,
      "outputs": []
    },
    {
      "cell_type": "markdown",
      "source": [
        "# HW2:"
      ],
      "metadata": {
        "id": "luCOhLSAqe4i"
      }
    }
  ]
}